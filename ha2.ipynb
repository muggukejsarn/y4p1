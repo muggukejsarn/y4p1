{
 "cells": [
  {
   "cell_type": "markdown",
   "metadata": {},
   "source": [
    "## Assignment 2 Deep Learning - CNNs\n",
    "\n",
    "_Magnus Caesar_"
   ]
  },
  {
   "cell_type": "code",
   "execution_count": 4,
   "metadata": {},
   "outputs": [],
   "source": [
    "import numpy as np\n",
    "import torch\n",
    "from load_mnist import *\n",
    "import matplotlib.pyplot as plt \n",
    "np.random.seed(42)\n"
   ]
  },
  {
   "cell_type": "markdown",
   "metadata": {},
   "source": [
    "### Exercise 1. Multi-layer fully connected neural network\n",
    "Implement exactly the same network as for assignment 1.\n",
    "\n",
    "1. Compare the performance\n",
    "2. Compare speed\n",
    "3. Learning curve plot"
   ]
  },
  {
   "cell_type": "markdown",
   "metadata": {},
   "source": [
    "The first network from assignment 1 is a linear model. The input dimension is 784 (28x28 pixels) and the output dimension is 10. The second network is multilayered. The one I tried implementing had 2 hidden layers á 100 neurons each, which the same necessary input and output dimensions."
   ]
  },
  {
   "cell_type": "code",
   "execution_count": 5,
   "metadata": {},
   "outputs": [],
   "source": [
    "class SeqNetwork(torch.nn.Module):\n",
    "    def __init__(self, input_dim, output_dim, layers, hidden_dim):\n",
    "        super().__init__()\n",
    "        # Implementera nån slags loop mayhaps, torch.nn.Modulelist?\n",
    "        self.layer = torch.nn.Linear(input_dim, hidden_dim)\n",
    "        self.relu = torch.nn.relu()\n",
    "        self.outlayer = torch.nn.Linear(hidden_dim, output_dim)\n",
    "\n",
    "    def forward(self, x):\n",
    "        x = self.layer(x)\n",
    "        x = self.gelu(x)\n",
    "        x = self.outlayer(x)\n",
    "        return x\n",
    "        "
   ]
  },
  {
   "cell_type": "code",
   "execution_count": null,
   "metadata": {},
   "outputs": [],
   "source": []
  },
  {
   "cell_type": "markdown",
   "metadata": {},
   "source": [
    "### Exercise 2. Multilayer convolutional neural network\n",
    "CNN using PyTorch with SGD and cross-entropy loss. Reach 98% accuracy.\n",
    "\n",
    "1. How many learnable weights does the network contain? Compare with previous exercise.\n",
    "2. Learning curve plot."
   ]
  }
 ],
 "metadata": {
  "kernelspec": {
   "display_name": "pytorch_env",
   "language": "python",
   "name": "python3"
  },
  "language_info": {
   "codemirror_mode": {
    "name": "ipython",
    "version": 3
   },
   "file_extension": ".py",
   "mimetype": "text/x-python",
   "name": "python",
   "nbconvert_exporter": "python",
   "pygments_lexer": "ipython3",
   "version": "3.12.1"
  }
 },
 "nbformat": 4,
 "nbformat_minor": 2
}
