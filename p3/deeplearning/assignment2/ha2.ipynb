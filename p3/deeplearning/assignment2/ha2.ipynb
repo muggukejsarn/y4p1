{
 "cells": [
  {
   "cell_type": "markdown",
   "metadata": {},
   "source": [
    "## Assignment 2 Deep Learning - CNNs\n",
    "\n",
    "_Magnus Caesar_"
   ]
  },
  {
   "cell_type": "code",
   "execution_count": 95,
   "metadata": {},
   "outputs": [],
   "source": [
    "import numpy as np\n",
    "import torch\n",
    "import torch.utils.data as data\n",
    "from load_func import load_mnist_func\n",
    "import matplotlib.pyplot as plt\n",
    "import time\n",
    "from sklearn.metrics import confusion_matrix\n",
    "import seaborn as sns\n",
    "np.random.seed(42)"
   ]
  },
  {
   "cell_type": "markdown",
   "metadata": {},
   "source": [
    "### General functions\n",
    "\n",
    "Below are some useful functions and commands that aren't specific to any one exercise.\n",
    "1. Loading the data\n",
    "2. Reformating the data to fit PyTorch\n",
    "3. compute_loss()\n",
    "4. train()\n",
    "5. plot_confusion()"
   ]
  },
  {
   "cell_type": "code",
   "execution_count": 97,
   "metadata": {},
   "outputs": [
    {
     "name": "stdout",
     "output_type": "stream",
     "text": [
      "Poopdogs\n",
      "Reading MNIST: stationary\n"
     ]
    }
   ],
   "source": [
    "# Load the data\n",
    "# Inputs \"station\" vs \"laptop\" specifies the current machine\n",
    "X_train, Y_train, X_test, Y_test = load_mnist_func(\"station\")"
   ]
  },
  {
   "cell_type": "code",
   "execution_count": 108,
   "metadata": {},
   "outputs": [],
   "source": [
    "# Loading the data into pytorch's domain\n",
    "X_train_tensor = torch.tensor(X_train, dtype=torch.float32)\n",
    "Y_train_tensor = torch.tensor(Y_train, dtype=torch.float32)\n",
    "X_test_tensor = torch.tensor(X_test, dtype=torch.float32)\n",
    "Y_test_tensor = torch.tensor(Y_test, dtype=torch.float32)\n",
    "\n",
    "# Create TensorDataset for sequential data (ex 1)...\n",
    "train_dataset = data.TensorDataset(X_train_tensor, Y_train_tensor)\n",
    "test_dataset = data.TensorDataset(X_test_tensor, Y_test_tensor)\n",
    "\n",
    "# ... and for graphic data (ex 2-6)\n",
    "train_dataset_cnn = data.TensorDataset(X_train_tensor.view(60000, 1, 28, 28), Y_train_tensor)\n",
    "test_dataset_cnn = data.TensorDataset(X_test_tensor.view(10000, 1, 28, 28), Y_test_tensor)"
   ]
  },
  {
   "cell_type": "markdown",
   "metadata": {},
   "source": [
    "**compute_loss()**\n",
    "\n",
    "This is similar to the \"compute_loss\" function used in lab 2."
   ]
  },
  {
   "cell_type": "code",
   "execution_count": 99,
   "metadata": {},
   "outputs": [],
   "source": [
    "def compute_loss(y_pred_1h, input_data, labels):\n",
    "    \"\"\"\n",
    "    y_pred: model(input)\n",
    "    input_data: input from batch\n",
    "    labels: labels from batch\n",
    "    \"\"\"\n",
    "\n",
    "    loss = torch.nn.functional.cross_entropy(y_pred_1h, labels)\n",
    "    acc = (y_pred_1h.argmax(dim=1) == labels.argmax(dim=1)).float().mean() # Check accuracy\n",
    "\n",
    "    return loss, acc"
   ]
  },
  {
   "cell_type": "markdown",
   "metadata": {},
   "source": [
    "**train() - for optimizing and getting statistics**\n",
    "\n",
    "The following function \"train\" is used for all exercises in the assignment. It not only trains the model but also returns several statistics that can be used for plotting. "
   ]
  },
  {
   "cell_type": "code",
   "execution_count": 130,
   "metadata": {},
   "outputs": [],
   "source": [
    "def train(model, traindata, testdata, num_epochs=40, batch_size=100, alpha_lr=0.005, optmzr=\"sgd\", reglz=0):\n",
    "    \"\"\"\n",
    "    Train model.\n",
    "    Input\n",
    "        model:              a subclass of torch.nn.Module to be trained\n",
    "        traindata:          self-explanatory. Must be of type torch.TensorDataset\n",
    "        testdata:           see above\n",
    "        num_epochs:         # epochs trained [int]\n",
    "        batch_size:         # batches [int]\n",
    "        optmzr:             optimizer. Select 'sgd' or 'adam' [string]\n",
    "    Returns\n",
    "        x_axis_train:       torch.arange(correct size)\n",
    "        x_axis_test:        torch.arange(test size)\n",
    "        train_costs:        [size 60000 / batches * num_epochs]\n",
    "        train_accuracies:   [size 60000 / batches * num_epochs]\n",
    "        test_costs:         [size num_epochs]. Average test cost every epoch\n",
    "        test_accuracies:    [size num_epochs]. Also average across epoch\n",
    "        total_time:         Time spent training the network\n",
    "        avgspeed:           Average time / epoch\n",
    "    Ex. \n",
    "    x_tr, x_te, trc, tra, tec, tac, time, avgspeed = train(model, train_dataset_cnn, test_dataset_cnn)\n",
    "    \"\"\"\n",
    "\n",
    "    \n",
    "    # Optimizer\n",
    "    if optmzr == \"sgd\":\n",
    "        optimizer = torch.optim.SGD(model.parameters(), lr=alpha_lr, momentum=0)\n",
    "    \n",
    "    if optmzr == \"adam\":\n",
    "        if reglz: # L2 regularization for Adam optimizer\n",
    "            optimizer = torch.optim.Adam(model.parameters(), lr=alpha_lr, weight_decay=1e-5) # Standard parameters in Adam\n",
    "        else:\n",
    "            optimizer = torch.optim.Adam(model.parameters(), lr=alpha_lr) # Standard parameters in Adam\n",
    "\n",
    "    # Load data\n",
    "    train_loader = data.DataLoader(traindata, batch_size=batch_size, shuffle=True)\n",
    "    test_loader = data.DataLoader(testdata, batch_size=batch_size)\n",
    "    \n",
    "    # Lists for later plotting\n",
    "    train_costs = []\n",
    "    train_accuracies = []\n",
    "    test_costs = []\n",
    "    test_accuracies = []\n",
    "\n",
    "    # For time tracking\n",
    "    starttime = time.time()\n",
    "\n",
    "    print(\"Initializing training\")\n",
    "\n",
    "    # Same training structure as from lab 2\n",
    "    for epoch in range(0, num_epochs):\n",
    "        model.train()\n",
    "\n",
    "        temp_costs1 = []\n",
    "        temp_acc1 = []\n",
    "\n",
    "        for input_data, labels in train_loader:\n",
    "            # b[0][0][0] är en bild. Ser bra ut: kan plottas\n",
    "\n",
    "            # print(b[0].size())\n",
    "            # \"plt.imshow(b[0][0][0])\"\n",
    "\n",
    "            # Training\n",
    "            y_pred_1h = model(input_data) # Remade the computeloss function in a momentary lapse of reason\n",
    "            optimizer.zero_grad()\n",
    "            loss, train_acc = compute_loss(y_pred_1h, input_data, labels)\n",
    "            loss.backward()\n",
    "            optimizer.step()\n",
    "\n",
    "            # Appending training metrics\n",
    "            temp_costs1.append(loss.item())\n",
    "            temp_acc1.append(train_acc)\n",
    "\n",
    "        train_costs.append(np.mean(temp_costs1))\n",
    "        train_accuracies.append(np.mean(temp_acc1))\n",
    "            \n",
    "        # Test metrics\n",
    "        temp_costs2 = []\n",
    "        temp_acc2 = []\n",
    "        \n",
    "        for input_data, labels in test_loader:\n",
    "            y_pred_test = model(input_data)\n",
    "            loss, acc = compute_loss(y_pred_test, input_data, labels)\n",
    "            temp_costs2.append(loss.item())\n",
    "            temp_acc2.append(acc)\n",
    "        \n",
    "        test_costs.append(np.mean(temp_costs2))\n",
    "        test_accuracies.append(np.mean(temp_acc2))\n",
    "\n",
    "        # Time related\n",
    "        t0 = time.time()\n",
    "        t_tot = t0-starttime\n",
    "        avgspeed = t_tot / (epoch+1)\n",
    "        est_time_remaining = (avgspeed) * (num_epochs - epoch+1)\n",
    "\n",
    "        # Statistics\n",
    "        print(f\"Epoch {epoch+1} / {num_epochs}:\")\n",
    "        print(f\"Current testing loss:      {test_costs[-1]:>10.4f}\")\n",
    "        print(f\"Current test accuracy:     {test_accuracies[-1]:>10.2f}\")\n",
    "        print(f\"Ellapsed time:             {round(t0 - starttime, 2):>10.2f} seconds.\")\n",
    "        print(f\"Estimated time remaining:  {round(est_time_remaining, 2):>10.2f} seconds.\")\n",
    "        print()\n",
    "    \n",
    "    # Time related\n",
    "    t_end = time.time()\n",
    "    total_time = t_end-starttime\n",
    "    print(f\"Final results:\")\n",
    "    print(f\"Total time elapsed: {round(total_time, 3)} s\")\n",
    "    print(f\"Average speed: {round(avgspeed, 3)} s / epoch\")\n",
    "\n",
    "    # x-axis for plotting\n",
    "    x_axis_train = torch.arange(len(train_costs)) # For every actual iteration\n",
    "    x_axis_test = torch.arange(len(test_costs)) # Average for every epoch\n",
    "\n",
    "    return x_axis_train, x_axis_test, train_costs, train_accuracies, test_costs, test_accuracies, total_time, avgspeed"
   ]
  },
  {
   "cell_type": "markdown",
   "metadata": {},
   "source": [
    "**plot_confusion() - more statistics after a model is done training**"
   ]
  },
  {
   "cell_type": "code",
   "execution_count": 101,
   "metadata": {},
   "outputs": [],
   "source": [
    "def plot_confusion(model, testdata):\n",
    "    \"\"\"\n",
    "    Plot a confusion matrix given a trained model and testdata.\n",
    "    Inputs\n",
    "        model: model to predict classes. Should be trained\n",
    "        testdata: of type TensorDataset (to allow for both sequential and graphic data for CNNs)\n",
    "    \"\"\"\n",
    "\n",
    "    test_loader = data.DataLoader(testdata, batch_size=200) # Get testdata\n",
    "    \n",
    "    y_pred = []\n",
    "    y_true = []\n",
    "\n",
    "    for input_data, labels in test_loader: \n",
    "        # Comes in batches\n",
    "        output = model(input_data)\n",
    "\n",
    "        y_pred += output.argmax(dim=1).flatten()\n",
    "        y_true += labels.argmax(dim=1).flatten()\n",
    "\n",
    "    plt.figure(figsize=(8, 6))\n",
    "    sns.heatmap(cm, annot=True, fmt=\"d\", cmap=\"Blues\", xticklabels=range(10), yticklabels=range(10))\n",
    "    plt.xlabel(\"Predicted Label\")\n",
    "    plt.ylabel(\"True Label\")\n",
    "    plt.title(\"Confusion Matrix\")\n"
   ]
  },
  {
   "cell_type": "code",
   "execution_count": 128,
   "metadata": {},
   "outputs": [],
   "source": [
    "def plot_learning_curve(model_stats_lists, names):\n",
    "    \"\"\"\n",
    "    Mostly recycled code from assignment 1. Plot a learning curve after training a model.\n",
    "    Input\n",
    "        List of outputs from train\n",
    "    Output\n",
    "        None\n",
    "    \n",
    "    E.g \n",
    "        net1 = train(model1, xtrain, xtest)\n",
    "        net2 = train(model2, xtrain, xtest)\n",
    "        net3 = train(model3, xtrain, xtest)\n",
    "        net4 = train(model4, xtrain, xtest)\n",
    "\n",
    "        plot_learning_curve([net1, net2, net3, net4])\n",
    "\n",
    "    Indices\n",
    "        0: x_axis_train\n",
    "        1: x_axis_test\n",
    "        2: train_costs\n",
    "        3: train_accuracies\n",
    "        4: test_costs\n",
    "        5: test_accuracies\n",
    "        6: total_time\n",
    "        7: avgspeed\n",
    "    \"\"\"\n",
    "    N_models = len(model_stats_lists)\n",
    "    print(N_models)\n",
    "    for e in model_stats_lists:\n",
    "        plt.plot(e[0], e[3], label=\"Training accuracies\")\n",
    "        plt.plot(e[1], e[5], label=\"Testing accuracies\")\n"
   ]
  },
  {
   "cell_type": "markdown",
   "metadata": {},
   "source": [
    "### Exercise 1. Multi-layer fully connected neural network\n",
    "Implement exactly the same network as for assignment 1.\n",
    "\n",
    "1. Compare the performance\n",
    "2. Compare speed\n",
    "3. Learning curve plot"
   ]
  },
  {
   "cell_type": "markdown",
   "metadata": {},
   "source": [
    "**Sequential network class**\n",
    "\n",
    "The first network from assignment 1 is a linear model. The input dimension is 784 (28x28 pixels) and the output dimension is 10. The second network is multilayered. The one I implemented had 2 hidden layers á 100 neurons each, which the same necessary input and output dimensions."
   ]
  },
  {
   "cell_type": "code",
   "execution_count": null,
   "metadata": {},
   "outputs": [],
   "source": [
    "class SeqNetwork(torch.nn.Module):\n",
    "    def __init__(self, num_hidden_layers, input_dim=784, output_dim=10, hidden_dim=100):\n",
    "        super().__init__()\n",
    "        self.layers = torch.nn.ModuleList([]) # Ska ha lista med lager / moduler\n",
    "\n",
    "        # If no hidden layers\n",
    "        if num_hidden_layers == 0: \n",
    "            self.layers.append(torch.nn.Linear(input_dim, output_dim, dtype=torch.float32))\n",
    "\n",
    "        # If hidden layers layers\n",
    "        # TODO\n",
    "        # this might have some logic flaws\n",
    "        else:\n",
    "            # First layer\n",
    "            self.layers.append(torch.nn.Linear(input_dim, hidden_dim))\n",
    "            self.layers.append(torch.nn.ReLU())\n",
    "            \n",
    "            # Add extra layers\n",
    "            for _ in range(num_hidden_layers):\n",
    "                self.layers.append(torch.nn.Linear(hidden_dim, hidden_dim))\n",
    "                self.layers.append(torch.nn.ReLU())\n",
    "            \n",
    "            self.layers.append(torch.nn.Linear(hidden_dim, output_dim))\n",
    "        \n",
    "\n",
    "    def forward(self, x):\n",
    "        for l in self.layers:\n",
    "            x = l(x)\n",
    "        return x\n",
    "        "
   ]
  },
  {
   "cell_type": "code",
   "execution_count": null,
   "metadata": {},
   "outputs": [
    {
     "name": "stdout",
     "output_type": "stream",
     "text": [
      "Initializing training\n",
      "Epoch 1 / 5:\n",
      "Current testing loss:          0.9804\n",
      "Current test accuracy:           0.83\n",
      "Ellapsed time:                   1.56 seconds.\n",
      "Estimated time remaining:        9.38 seconds.\n",
      "\n",
      "Epoch 2 / 5:\n",
      "Current testing loss:          0.7189\n",
      "Current test accuracy:           0.85\n",
      "Ellapsed time:                   2.96 seconds.\n",
      "Estimated time remaining:        7.41 seconds.\n",
      "\n",
      "Epoch 3 / 5:\n",
      "Current testing loss:          0.6107\n",
      "Current test accuracy:           0.87\n",
      "Ellapsed time:                   4.35 seconds.\n",
      "Estimated time remaining:        5.80 seconds.\n",
      "\n",
      "Epoch 4 / 5:\n",
      "Current testing loss:          0.5504\n",
      "Current test accuracy:           0.87\n",
      "Ellapsed time:                   5.92 seconds.\n",
      "Estimated time remaining:        4.44 seconds.\n",
      "\n",
      "Epoch 5 / 5:\n",
      "Current testing loss:          0.5107\n",
      "Current test accuracy:           0.88\n",
      "Ellapsed time:                   7.53 seconds.\n",
      "Estimated time remaining:        3.01 seconds.\n",
      "\n",
      "Final results:\n",
      "Total time elapsed: 7.535 s\n",
      "Average speed: 1.507 s / epoch\n"
     ]
    }
   ],
   "source": [
    "seq_model = SeqNetwork(0)\n",
    "\n",
    "num_epochs = 5\n",
    "batch_size = 100 # size used in lab1\n",
    "\n",
    "seq_stats = train(seq_model, train_dataset, test_dataset, num_epochs=num_epochs, batch_size=batch_size)"
   ]
  },
  {
   "cell_type": "code",
   "execution_count": null,
   "metadata": {},
   "outputs": [
    {
     "data": {
      "image/png": "[encoded data removed]",
      "text/plain": [
       "<Figure size 800x600 with 2 Axes>"
      ]
     },
     "metadata": {},
     "output_type": "display_data"
    }
   ],
   "source": [
    "plot_confusion(seq_model, train_dataset)"
   ]
  },
  {
   "cell_type": "markdown",
   "metadata": {},
   "source": [
    "### Exercise 2. Multilayer convolutional neural network\n",
    "CNN using PyTorch with SGD and cross-entropy loss. Reach 98% accuracy.\n",
    "\n",
    "1. How many learnable weights does the network contain? Compare with previous exercise.\n",
    "2. Learning curve plot."
   ]
  },
  {
   "cell_type": "markdown",
   "metadata": {},
   "source": [
    "**Base class CNN**"
   ]
  },
  {
   "cell_type": "code",
   "execution_count": 106,
   "metadata": {},
   "outputs": [],
   "source": [
    "class ConvNetwork(torch.nn.Module):\n",
    "\n",
    "    def __init__(self):\n",
    "        super().__init__()\n",
    "\n",
    "        self.conv1 = torch.nn.Conv2d(1, 8, kernel_size=3, stride=1, padding=1)\n",
    "        self.relu = torch.nn.ReLU()\n",
    "        self.pool = torch.nn.MaxPool2d(2, stride=2)\n",
    "        self.conv2 = torch.nn.Conv2d(8, 16, kernel_size=3, stride=1, padding=1)\n",
    "        #relu\n",
    "        #pool\n",
    "        self.conv3 = torch.nn.Conv2d(16, 32, kernel_size=3, stride=1, padding=1)\n",
    "        #relu\n",
    "        self.flatten = torch.nn.Flatten()\n",
    "        self.fullyconnected = torch.nn.Linear(32*7*7, 10)\n",
    "        #self.softm = torch.nn.Softmax(dim=1)\n",
    "\n",
    "        self.components = torch.nn.ModuleList([self.conv1,\n",
    "                                               self.relu,\n",
    "                                               self.pool,\n",
    "                                               self.conv2,\n",
    "                                               self.relu,\n",
    "                                               self.pool,\n",
    "                                               self.conv3,\n",
    "                                               self.relu,\n",
    "                                               self.flatten,\n",
    "                                               self.fullyconnected])\n",
    "    \n",
    "    def forward(self, x):\n",
    "\n",
    "        for l in self.components:\n",
    "            x = l(x)\n",
    "\n",
    "        return x"
   ]
  },
  {
   "cell_type": "markdown",
   "metadata": {},
   "source": [
    "**Optimizing and training**"
   ]
  },
  {
   "cell_type": "code",
   "execution_count": null,
   "metadata": {},
   "outputs": [
    {
     "name": "stdout",
     "output_type": "stream",
     "text": [
      "Entering epoch 1 out of 30.\n",
      "Current testing loss:          0.6043\n",
      "Current test accuracy:           0.81\n",
      "Ellapsed time:                  11.80 seconds.\n",
      "Estimated time remaining:      365.78 seconds.\n",
      "\n",
      "Entering epoch 2 out of 30.\n"
     ]
    },
    {
     "ename": "KeyboardInterrupt",
     "evalue": "",
     "output_type": "error",
     "traceback": [
      "\u001b[1;31m---------------------------------------------------------------------------\u001b[0m",
      "\u001b[1;31mKeyboardInterrupt\u001b[0m                         Traceback (most recent call last)",
      "Cell \u001b[1;32mIn[10], line 6\u001b[0m\n\u001b[0;32m      3\u001b[0m num_epochs \u001b[38;5;241m=\u001b[39m \u001b[38;5;241m30\u001b[39m\n\u001b[0;32m      4\u001b[0m batch_size \u001b[38;5;241m=\u001b[39m \u001b[38;5;241m64\u001b[39m \u001b[38;5;66;03m# size used in lab1\u001b[39;00m\n\u001b[1;32m----> 6\u001b[0m trc, tra, tec, tac \u001b[38;5;241m=\u001b[39m \u001b[43mtrain\u001b[49m\u001b[43m(\u001b[49m\u001b[43mmodel\u001b[49m\u001b[43m,\u001b[49m\u001b[43m \u001b[49m\u001b[43mtrain_dataset_cnn\u001b[49m\u001b[43m,\u001b[49m\u001b[43m \u001b[49m\u001b[43mtest_dataset_cnn\u001b[49m\u001b[43m,\u001b[49m\u001b[43m \u001b[49m\u001b[43mnum_epochs\u001b[49m\u001b[38;5;241;43m=\u001b[39;49m\u001b[43mnum_epochs\u001b[49m\u001b[43m,\u001b[49m\u001b[43m \u001b[49m\u001b[43mbatch_size\u001b[49m\u001b[38;5;241;43m=\u001b[39;49m\u001b[43mbatch_size\u001b[49m\u001b[43m)\u001b[49m\n",
      "Cell \u001b[1;32mIn[9], line 59\u001b[0m, in \u001b[0;36mtrain\u001b[1;34m(model, traindata, testdata, num_epochs, batch_size, optmzr)\u001b[0m\n\u001b[0;32m     51\u001b[0m \u001b[38;5;28;01mfor\u001b[39;00m b \u001b[38;5;129;01min\u001b[39;00m train_loader:\n\u001b[0;32m     52\u001b[0m     \u001b[38;5;66;03m# b[0][0][0] är en bild. Ser bra ut: kan plottas\u001b[39;00m\n\u001b[0;32m     53\u001b[0m \n\u001b[1;32m   (...)\u001b[0m\n\u001b[0;32m     56\u001b[0m \n\u001b[0;32m     57\u001b[0m     \u001b[38;5;66;03m# Training\u001b[39;00m\n\u001b[0;32m     58\u001b[0m     optimizer\u001b[38;5;241m.\u001b[39mzero_grad()\n\u001b[1;32m---> 59\u001b[0m     loss, train_acc \u001b[38;5;241m=\u001b[39m \u001b[43mcompute_loss\u001b[49m\u001b[43m(\u001b[49m\u001b[43mmodel\u001b[49m\u001b[43m,\u001b[49m\u001b[43m \u001b[49m\u001b[43mb\u001b[49m\u001b[43m)\u001b[49m\n\u001b[0;32m     60\u001b[0m     loss\u001b[38;5;241m.\u001b[39mbackward()\n\u001b[0;32m     61\u001b[0m     optimizer\u001b[38;5;241m.\u001b[39mstep()\n",
      "Cell \u001b[1;32mIn[5], line 6\u001b[0m, in \u001b[0;36mcompute_loss\u001b[1;34m(model, batch)\u001b[0m\n\u001b[0;32m      1\u001b[0m \u001b[38;5;28;01mdef\u001b[39;00m\u001b[38;5;250m \u001b[39m\u001b[38;5;21mcompute_loss\u001b[39m(model, batch):\n\u001b[0;32m      2\u001b[0m     \u001b[38;5;66;03m# forward pass and loss function\u001b[39;00m\n\u001b[0;32m      4\u001b[0m     inp_data, labels \u001b[38;5;241m=\u001b[39m batch \u001b[38;5;66;03m# Read current batch\u001b[39;00m\n\u001b[1;32m----> 6\u001b[0m     output \u001b[38;5;241m=\u001b[39m \u001b[43mmodel\u001b[49m\u001b[43m(\u001b[49m\u001b[43minp_data\u001b[49m\u001b[43m)\u001b[49m \u001b[38;5;66;03m# Get output from model\u001b[39;00m\n\u001b[0;32m      7\u001b[0m     loss \u001b[38;5;241m=\u001b[39m torch\u001b[38;5;241m.\u001b[39mnn\u001b[38;5;241m.\u001b[39mfunctional\u001b[38;5;241m.\u001b[39mcross_entropy(output, labels)\n\u001b[0;32m      8\u001b[0m     acc \u001b[38;5;241m=\u001b[39m (output\u001b[38;5;241m.\u001b[39margmax(dim\u001b[38;5;241m=\u001b[39m\u001b[38;5;241m1\u001b[39m) \u001b[38;5;241m==\u001b[39m labels\u001b[38;5;241m.\u001b[39margmax(dim\u001b[38;5;241m=\u001b[39m\u001b[38;5;241m1\u001b[39m))\u001b[38;5;241m.\u001b[39mfloat()\u001b[38;5;241m.\u001b[39mmean() \u001b[38;5;66;03m# Check accuracy\u001b[39;00m\n",
      "File \u001b[1;32md:\\skola\\universitet\\2024_2025\\p3\\deeplearning\\torch_fuck\\lib\\site-packages\\torch\\nn\\modules\\module.py:1739\u001b[0m, in \u001b[0;36mModule._wrapped_call_impl\u001b[1;34m(self, *args, **kwargs)\u001b[0m\n\u001b[0;32m   1737\u001b[0m     \u001b[38;5;28;01mreturn\u001b[39;00m \u001b[38;5;28mself\u001b[39m\u001b[38;5;241m.\u001b[39m_compiled_call_impl(\u001b[38;5;241m*\u001b[39margs, \u001b[38;5;241m*\u001b[39m\u001b[38;5;241m*\u001b[39mkwargs)  \u001b[38;5;66;03m# type: ignore[misc]\u001b[39;00m\n\u001b[0;32m   1738\u001b[0m \u001b[38;5;28;01melse\u001b[39;00m:\n\u001b[1;32m-> 1739\u001b[0m     \u001b[38;5;28;01mreturn\u001b[39;00m \u001b[38;5;28mself\u001b[39m\u001b[38;5;241m.\u001b[39m_call_impl(\u001b[38;5;241m*\u001b[39margs, \u001b[38;5;241m*\u001b[39m\u001b[38;5;241m*\u001b[39mkwargs)\n",
      "File \u001b[1;32md:\\skola\\universitet\\2024_2025\\p3\\deeplearning\\torch_fuck\\lib\\site-packages\\torch\\nn\\modules\\module.py:1750\u001b[0m, in \u001b[0;36mModule._call_impl\u001b[1;34m(self, *args, **kwargs)\u001b[0m\n\u001b[0;32m   1745\u001b[0m \u001b[38;5;66;03m# If we don't have any hooks, we want to skip the rest of the logic in\u001b[39;00m\n\u001b[0;32m   1746\u001b[0m \u001b[38;5;66;03m# this function, and just call forward.\u001b[39;00m\n\u001b[0;32m   1747\u001b[0m \u001b[38;5;28;01mif\u001b[39;00m \u001b[38;5;129;01mnot\u001b[39;00m (\u001b[38;5;28mself\u001b[39m\u001b[38;5;241m.\u001b[39m_backward_hooks \u001b[38;5;129;01mor\u001b[39;00m \u001b[38;5;28mself\u001b[39m\u001b[38;5;241m.\u001b[39m_backward_pre_hooks \u001b[38;5;129;01mor\u001b[39;00m \u001b[38;5;28mself\u001b[39m\u001b[38;5;241m.\u001b[39m_forward_hooks \u001b[38;5;129;01mor\u001b[39;00m \u001b[38;5;28mself\u001b[39m\u001b[38;5;241m.\u001b[39m_forward_pre_hooks\n\u001b[0;32m   1748\u001b[0m         \u001b[38;5;129;01mor\u001b[39;00m _global_backward_pre_hooks \u001b[38;5;129;01mor\u001b[39;00m _global_backward_hooks\n\u001b[0;32m   1749\u001b[0m         \u001b[38;5;129;01mor\u001b[39;00m _global_forward_hooks \u001b[38;5;129;01mor\u001b[39;00m _global_forward_pre_hooks):\n\u001b[1;32m-> 1750\u001b[0m     \u001b[38;5;28;01mreturn\u001b[39;00m forward_call(\u001b[38;5;241m*\u001b[39margs, \u001b[38;5;241m*\u001b[39m\u001b[38;5;241m*\u001b[39mkwargs)\n\u001b[0;32m   1752\u001b[0m result \u001b[38;5;241m=\u001b[39m \u001b[38;5;28;01mNone\u001b[39;00m\n\u001b[0;32m   1753\u001b[0m called_always_called_hooks \u001b[38;5;241m=\u001b[39m \u001b[38;5;28mset\u001b[39m()\n",
      "Cell \u001b[1;32mIn[8], line 32\u001b[0m, in \u001b[0;36mConvNetwork.forward\u001b[1;34m(self, x)\u001b[0m\n\u001b[0;32m     29\u001b[0m \u001b[38;5;28;01mdef\u001b[39;00m\u001b[38;5;250m \u001b[39m\u001b[38;5;21mforward\u001b[39m(\u001b[38;5;28mself\u001b[39m, x):\n\u001b[0;32m     31\u001b[0m     \u001b[38;5;28;01mfor\u001b[39;00m l \u001b[38;5;129;01min\u001b[39;00m \u001b[38;5;28mself\u001b[39m\u001b[38;5;241m.\u001b[39mcomponents:\n\u001b[1;32m---> 32\u001b[0m         x \u001b[38;5;241m=\u001b[39m \u001b[43ml\u001b[49m\u001b[43m(\u001b[49m\u001b[43mx\u001b[49m\u001b[43m)\u001b[49m\n\u001b[0;32m     34\u001b[0m     \u001b[38;5;28;01mreturn\u001b[39;00m x\n",
      "File \u001b[1;32md:\\skola\\universitet\\2024_2025\\p3\\deeplearning\\torch_fuck\\lib\\site-packages\\torch\\nn\\modules\\module.py:1739\u001b[0m, in \u001b[0;36mModule._wrapped_call_impl\u001b[1;34m(self, *args, **kwargs)\u001b[0m\n\u001b[0;32m   1737\u001b[0m     \u001b[38;5;28;01mreturn\u001b[39;00m \u001b[38;5;28mself\u001b[39m\u001b[38;5;241m.\u001b[39m_compiled_call_impl(\u001b[38;5;241m*\u001b[39margs, \u001b[38;5;241m*\u001b[39m\u001b[38;5;241m*\u001b[39mkwargs)  \u001b[38;5;66;03m# type: ignore[misc]\u001b[39;00m\n\u001b[0;32m   1738\u001b[0m \u001b[38;5;28;01melse\u001b[39;00m:\n\u001b[1;32m-> 1739\u001b[0m     \u001b[38;5;28;01mreturn\u001b[39;00m \u001b[38;5;28mself\u001b[39m\u001b[38;5;241m.\u001b[39m_call_impl(\u001b[38;5;241m*\u001b[39margs, \u001b[38;5;241m*\u001b[39m\u001b[38;5;241m*\u001b[39mkwargs)\n",
      "File \u001b[1;32md:\\skola\\universitet\\2024_2025\\p3\\deeplearning\\torch_fuck\\lib\\site-packages\\torch\\nn\\modules\\module.py:1750\u001b[0m, in \u001b[0;36mModule._call_impl\u001b[1;34m(self, *args, **kwargs)\u001b[0m\n\u001b[0;32m   1745\u001b[0m \u001b[38;5;66;03m# If we don't have any hooks, we want to skip the rest of the logic in\u001b[39;00m\n\u001b[0;32m   1746\u001b[0m \u001b[38;5;66;03m# this function, and just call forward.\u001b[39;00m\n\u001b[0;32m   1747\u001b[0m \u001b[38;5;28;01mif\u001b[39;00m \u001b[38;5;129;01mnot\u001b[39;00m (\u001b[38;5;28mself\u001b[39m\u001b[38;5;241m.\u001b[39m_backward_hooks \u001b[38;5;129;01mor\u001b[39;00m \u001b[38;5;28mself\u001b[39m\u001b[38;5;241m.\u001b[39m_backward_pre_hooks \u001b[38;5;129;01mor\u001b[39;00m \u001b[38;5;28mself\u001b[39m\u001b[38;5;241m.\u001b[39m_forward_hooks \u001b[38;5;129;01mor\u001b[39;00m \u001b[38;5;28mself\u001b[39m\u001b[38;5;241m.\u001b[39m_forward_pre_hooks\n\u001b[0;32m   1748\u001b[0m         \u001b[38;5;129;01mor\u001b[39;00m _global_backward_pre_hooks \u001b[38;5;129;01mor\u001b[39;00m _global_backward_hooks\n\u001b[0;32m   1749\u001b[0m         \u001b[38;5;129;01mor\u001b[39;00m _global_forward_hooks \u001b[38;5;129;01mor\u001b[39;00m _global_forward_pre_hooks):\n\u001b[1;32m-> 1750\u001b[0m     \u001b[38;5;28;01mreturn\u001b[39;00m forward_call(\u001b[38;5;241m*\u001b[39margs, \u001b[38;5;241m*\u001b[39m\u001b[38;5;241m*\u001b[39mkwargs)\n\u001b[0;32m   1752\u001b[0m result \u001b[38;5;241m=\u001b[39m \u001b[38;5;28;01mNone\u001b[39;00m\n\u001b[0;32m   1753\u001b[0m called_always_called_hooks \u001b[38;5;241m=\u001b[39m \u001b[38;5;28mset\u001b[39m()\n",
      "File \u001b[1;32md:\\skola\\universitet\\2024_2025\\p3\\deeplearning\\torch_fuck\\lib\\site-packages\\torch\\nn\\modules\\pooling.py:213\u001b[0m, in \u001b[0;36mMaxPool2d.forward\u001b[1;34m(self, input)\u001b[0m\n\u001b[0;32m    212\u001b[0m \u001b[38;5;28;01mdef\u001b[39;00m\u001b[38;5;250m \u001b[39m\u001b[38;5;21mforward\u001b[39m(\u001b[38;5;28mself\u001b[39m, \u001b[38;5;28minput\u001b[39m: Tensor):\n\u001b[1;32m--> 213\u001b[0m     \u001b[38;5;28;01mreturn\u001b[39;00m \u001b[43mF\u001b[49m\u001b[38;5;241;43m.\u001b[39;49m\u001b[43mmax_pool2d\u001b[49m\u001b[43m(\u001b[49m\n\u001b[0;32m    214\u001b[0m \u001b[43m        \u001b[49m\u001b[38;5;28;43minput\u001b[39;49m\u001b[43m,\u001b[49m\n\u001b[0;32m    215\u001b[0m \u001b[43m        \u001b[49m\u001b[38;5;28;43mself\u001b[39;49m\u001b[38;5;241;43m.\u001b[39;49m\u001b[43mkernel_size\u001b[49m\u001b[43m,\u001b[49m\n\u001b[0;32m    216\u001b[0m \u001b[43m        \u001b[49m\u001b[38;5;28;43mself\u001b[39;49m\u001b[38;5;241;43m.\u001b[39;49m\u001b[43mstride\u001b[49m\u001b[43m,\u001b[49m\n\u001b[0;32m    217\u001b[0m \u001b[43m        \u001b[49m\u001b[38;5;28;43mself\u001b[39;49m\u001b[38;5;241;43m.\u001b[39;49m\u001b[43mpadding\u001b[49m\u001b[43m,\u001b[49m\n\u001b[0;32m    218\u001b[0m \u001b[43m        \u001b[49m\u001b[38;5;28;43mself\u001b[39;49m\u001b[38;5;241;43m.\u001b[39;49m\u001b[43mdilation\u001b[49m\u001b[43m,\u001b[49m\n\u001b[0;32m    219\u001b[0m \u001b[43m        \u001b[49m\u001b[43mceil_mode\u001b[49m\u001b[38;5;241;43m=\u001b[39;49m\u001b[38;5;28;43mself\u001b[39;49m\u001b[38;5;241;43m.\u001b[39;49m\u001b[43mceil_mode\u001b[49m\u001b[43m,\u001b[49m\n\u001b[0;32m    220\u001b[0m \u001b[43m        \u001b[49m\u001b[43mreturn_indices\u001b[49m\u001b[38;5;241;43m=\u001b[39;49m\u001b[38;5;28;43mself\u001b[39;49m\u001b[38;5;241;43m.\u001b[39;49m\u001b[43mreturn_indices\u001b[49m\u001b[43m,\u001b[49m\n\u001b[0;32m    221\u001b[0m \u001b[43m    \u001b[49m\u001b[43m)\u001b[49m\n",
      "File \u001b[1;32md:\\skola\\universitet\\2024_2025\\p3\\deeplearning\\torch_fuck\\lib\\site-packages\\torch\\_jit_internal.py:624\u001b[0m, in \u001b[0;36mboolean_dispatch.<locals>.fn\u001b[1;34m(*args, **kwargs)\u001b[0m\n\u001b[0;32m    622\u001b[0m     \u001b[38;5;28;01mreturn\u001b[39;00m if_true(\u001b[38;5;241m*\u001b[39margs, \u001b[38;5;241m*\u001b[39m\u001b[38;5;241m*\u001b[39mkwargs)\n\u001b[0;32m    623\u001b[0m \u001b[38;5;28;01melse\u001b[39;00m:\n\u001b[1;32m--> 624\u001b[0m     \u001b[38;5;28;01mreturn\u001b[39;00m if_false(\u001b[38;5;241m*\u001b[39margs, \u001b[38;5;241m*\u001b[39m\u001b[38;5;241m*\u001b[39mkwargs)\n",
      "File \u001b[1;32md:\\skola\\universitet\\2024_2025\\p3\\deeplearning\\torch_fuck\\lib\\site-packages\\torch\\nn\\functional.py:830\u001b[0m, in \u001b[0;36m_max_pool2d\u001b[1;34m(input, kernel_size, stride, padding, dilation, ceil_mode, return_indices)\u001b[0m\n\u001b[0;32m    828\u001b[0m \u001b[38;5;28;01mif\u001b[39;00m stride \u001b[38;5;129;01mis\u001b[39;00m \u001b[38;5;28;01mNone\u001b[39;00m:\n\u001b[0;32m    829\u001b[0m     stride \u001b[38;5;241m=\u001b[39m torch\u001b[38;5;241m.\u001b[39mjit\u001b[38;5;241m.\u001b[39mannotate(List[\u001b[38;5;28mint\u001b[39m], [])\n\u001b[1;32m--> 830\u001b[0m \u001b[38;5;28;01mreturn\u001b[39;00m \u001b[43mtorch\u001b[49m\u001b[38;5;241;43m.\u001b[39;49m\u001b[43mmax_pool2d\u001b[49m\u001b[43m(\u001b[49m\u001b[38;5;28;43minput\u001b[39;49m\u001b[43m,\u001b[49m\u001b[43m \u001b[49m\u001b[43mkernel_size\u001b[49m\u001b[43m,\u001b[49m\u001b[43m \u001b[49m\u001b[43mstride\u001b[49m\u001b[43m,\u001b[49m\u001b[43m \u001b[49m\u001b[43mpadding\u001b[49m\u001b[43m,\u001b[49m\u001b[43m \u001b[49m\u001b[43mdilation\u001b[49m\u001b[43m,\u001b[49m\u001b[43m \u001b[49m\u001b[43mceil_mode\u001b[49m\u001b[43m)\u001b[49m\n",
      "\u001b[1;31mKeyboardInterrupt\u001b[0m: "
     ]
    }
   ],
   "source": [
    "model = ConvNetwork()\n",
    "\n",
    "num_epochs = 30\n",
    "batch_size = 64 # size used in lab1\n",
    "\n",
    "trc, tra, tec, tac = train(model, train_dataset_cnn, test_dataset_cnn, num_epochs=num_epochs, batch_size=batch_size)"
   ]
  },
  {
   "cell_type": "code",
   "execution_count": null,
   "metadata": {},
   "outputs": [],
   "source": [
    "# Plot: regular learning curve plot of the CNN: see first page of HA2"
   ]
  },
  {
   "cell_type": "markdown",
   "metadata": {},
   "source": [
    "### Exercise 3: swapping the order of max pooling and the activation function\n",
    "\n",
    "1. How does this affect the models performance? Final accuracy?\n",
    "2. Swapping ReLU to tanh: differences? Time taken, final accuarcy?"
   ]
  },
  {
   "cell_type": "code",
   "execution_count": null,
   "metadata": {},
   "outputs": [],
   "source": [
    "class SwapedConvNetwork(torch.nn.Module):\n",
    "    # Easier to create a new class than to fiddle in the old one\n",
    "    def __init__(self, activator: str):\n",
    "        super().__init__()\n",
    "\n",
    "        # Reused layers\n",
    "        if activator.lower() == \"relu\":\n",
    "            self.activator = torch.nn.ReLU()\n",
    "        if activator.lower() == \"tanh\":\n",
    "            self.activator == torch.nn.Tanh()\n",
    "        \n",
    "        self.pool = torch.nn.MaxPool2d(2, stride=2)\n",
    "\n",
    "        # Full laid out structure\n",
    "        self.conv1 = torch.nn.Conv2d(1, 8, kernel_size=3, stride=1, padding=1)\n",
    "        # Pool\n",
    "        # Activator\n",
    "        self.conv2 = torch.nn.Conv2d(8, 16, kernel_size=3, stride=1, padding=1)\n",
    "        # Pool\n",
    "        # Activator\n",
    "        self.conv3 = torch.nn.Conv2d(16, 32, kernel_size=3, stride=1, padding=1)\n",
    "        # Activator\n",
    "        self.flatten = torch.nn.Flatten()\n",
    "        self.fullyconnected = torch.nn.Linear(32*7*7, 10)\n",
    "        #self.softm = torch.nn.Softmax(dim=1)\n",
    "\n",
    "        self.components = torch.nn.ModuleList([self.conv1,\n",
    "                                               self.pool,\n",
    "                                               self.activator,\n",
    "                                               self.conv2,\n",
    "                                               self.pool,\n",
    "                                               self.activator,\n",
    "                                               self.conv3,\n",
    "                                               self.activator,\n",
    "                                               self.flatten,\n",
    "                                               self.fullyconnected])\n",
    "    \n",
    "    def forward(self, x):\n",
    "\n",
    "        for l in self.components:\n",
    "            x = l(x)\n",
    "\n",
    "        return x\n",
    "\n"
   ]
  },
  {
   "cell_type": "code",
   "execution_count": null,
   "metadata": {},
   "outputs": [
    {
     "name": "stdout",
     "output_type": "stream",
     "text": [
      "Entering epoch 1 out of 40.\n",
      "Current testing loss:          0.4520\n",
      "Current test accuracy:           0.87\n",
      "Ellapsed time:                  11.23 seconds.\n",
      "Estimated time remaining:      460.57 seconds.\n",
      "\n",
      "Entering epoch 2 out of 40.\n"
     ]
    },
    {
     "ename": "KeyboardInterrupt",
     "evalue": "",
     "output_type": "error",
     "traceback": [
      "\u001b[1;31m---------------------------------------------------------------------------\u001b[0m",
      "\u001b[1;31mKeyboardInterrupt\u001b[0m                         Traceback (most recent call last)",
      "Cell \u001b[1;32mIn[12], line 3\u001b[0m\n\u001b[0;32m      1\u001b[0m model \u001b[38;5;241m=\u001b[39m SwapedConvNetwork(\u001b[38;5;124m\"\u001b[39m\u001b[38;5;124mrelu\u001b[39m\u001b[38;5;124m\"\u001b[39m)\n\u001b[1;32m----> 3\u001b[0m x_train, x_test, trc2, tra2, tec2, tac2, time, avgspeed \u001b[38;5;241m=\u001b[39m \u001b[43mtrain\u001b[49m\u001b[43m(\u001b[49m\u001b[43mmodel\u001b[49m\u001b[43m,\u001b[49m\u001b[43m \u001b[49m\u001b[43mtrain_dataset_cnn\u001b[49m\u001b[43m,\u001b[49m\u001b[43m \u001b[49m\u001b[43mtest_dataset_cnn\u001b[49m\u001b[43m,\u001b[49m\u001b[43m \u001b[49m\u001b[43mbatch_size\u001b[49m\u001b[38;5;241;43m=\u001b[39;49m\u001b[38;5;241;43m64\u001b[39;49m\u001b[43m,\u001b[49m\u001b[43m \u001b[49m\u001b[43moptmzr\u001b[49m\u001b[38;5;241;43m=\u001b[39;49m\u001b[38;5;124;43m\"\u001b[39;49m\u001b[38;5;124;43msgd\u001b[39;49m\u001b[38;5;124;43m\"\u001b[39;49m\u001b[43m)\u001b[49m\n",
      "Cell \u001b[1;32mIn[9], line 60\u001b[0m, in \u001b[0;36mtrain\u001b[1;34m(model, traindata, testdata, num_epochs, batch_size, optmzr)\u001b[0m\n\u001b[0;32m     58\u001b[0m optimizer\u001b[38;5;241m.\u001b[39mzero_grad()\n\u001b[0;32m     59\u001b[0m loss, train_acc \u001b[38;5;241m=\u001b[39m compute_loss(model, b)\n\u001b[1;32m---> 60\u001b[0m \u001b[43mloss\u001b[49m\u001b[38;5;241;43m.\u001b[39;49m\u001b[43mbackward\u001b[49m\u001b[43m(\u001b[49m\u001b[43m)\u001b[49m\n\u001b[0;32m     61\u001b[0m optimizer\u001b[38;5;241m.\u001b[39mstep()\n\u001b[0;32m     63\u001b[0m \u001b[38;5;66;03m# Appending training metrics\u001b[39;00m\n",
      "File \u001b[1;32md:\\skola\\universitet\\2024_2025\\p3\\deeplearning\\torch_fuck\\lib\\site-packages\\torch\\_tensor.py:626\u001b[0m, in \u001b[0;36mTensor.backward\u001b[1;34m(self, gradient, retain_graph, create_graph, inputs)\u001b[0m\n\u001b[0;32m    616\u001b[0m \u001b[38;5;28;01mif\u001b[39;00m has_torch_function_unary(\u001b[38;5;28mself\u001b[39m):\n\u001b[0;32m    617\u001b[0m     \u001b[38;5;28;01mreturn\u001b[39;00m handle_torch_function(\n\u001b[0;32m    618\u001b[0m         Tensor\u001b[38;5;241m.\u001b[39mbackward,\n\u001b[0;32m    619\u001b[0m         (\u001b[38;5;28mself\u001b[39m,),\n\u001b[1;32m   (...)\u001b[0m\n\u001b[0;32m    624\u001b[0m         inputs\u001b[38;5;241m=\u001b[39minputs,\n\u001b[0;32m    625\u001b[0m     )\n\u001b[1;32m--> 626\u001b[0m \u001b[43mtorch\u001b[49m\u001b[38;5;241;43m.\u001b[39;49m\u001b[43mautograd\u001b[49m\u001b[38;5;241;43m.\u001b[39;49m\u001b[43mbackward\u001b[49m\u001b[43m(\u001b[49m\n\u001b[0;32m    627\u001b[0m \u001b[43m    \u001b[49m\u001b[38;5;28;43mself\u001b[39;49m\u001b[43m,\u001b[49m\u001b[43m \u001b[49m\u001b[43mgradient\u001b[49m\u001b[43m,\u001b[49m\u001b[43m \u001b[49m\u001b[43mretain_graph\u001b[49m\u001b[43m,\u001b[49m\u001b[43m \u001b[49m\u001b[43mcreate_graph\u001b[49m\u001b[43m,\u001b[49m\u001b[43m \u001b[49m\u001b[43minputs\u001b[49m\u001b[38;5;241;43m=\u001b[39;49m\u001b[43minputs\u001b[49m\n\u001b[0;32m    628\u001b[0m \u001b[43m\u001b[49m\u001b[43m)\u001b[49m\n",
      "File \u001b[1;32md:\\skola\\universitet\\2024_2025\\p3\\deeplearning\\torch_fuck\\lib\\site-packages\\torch\\autograd\\__init__.py:347\u001b[0m, in \u001b[0;36mbackward\u001b[1;34m(tensors, grad_tensors, retain_graph, create_graph, grad_variables, inputs)\u001b[0m\n\u001b[0;32m    342\u001b[0m     retain_graph \u001b[38;5;241m=\u001b[39m create_graph\n\u001b[0;32m    344\u001b[0m \u001b[38;5;66;03m# The reason we repeat the same comment below is that\u001b[39;00m\n\u001b[0;32m    345\u001b[0m \u001b[38;5;66;03m# some Python versions print out the first line of a multi-line function\u001b[39;00m\n\u001b[0;32m    346\u001b[0m \u001b[38;5;66;03m# calls in the traceback and some print out the last line\u001b[39;00m\n\u001b[1;32m--> 347\u001b[0m \u001b[43m_engine_run_backward\u001b[49m\u001b[43m(\u001b[49m\n\u001b[0;32m    348\u001b[0m \u001b[43m    \u001b[49m\u001b[43mtensors\u001b[49m\u001b[43m,\u001b[49m\n\u001b[0;32m    349\u001b[0m \u001b[43m    \u001b[49m\u001b[43mgrad_tensors_\u001b[49m\u001b[43m,\u001b[49m\n\u001b[0;32m    350\u001b[0m \u001b[43m    \u001b[49m\u001b[43mretain_graph\u001b[49m\u001b[43m,\u001b[49m\n\u001b[0;32m    351\u001b[0m \u001b[43m    \u001b[49m\u001b[43mcreate_graph\u001b[49m\u001b[43m,\u001b[49m\n\u001b[0;32m    352\u001b[0m \u001b[43m    \u001b[49m\u001b[43minputs\u001b[49m\u001b[43m,\u001b[49m\n\u001b[0;32m    353\u001b[0m \u001b[43m    \u001b[49m\u001b[43mallow_unreachable\u001b[49m\u001b[38;5;241;43m=\u001b[39;49m\u001b[38;5;28;43;01mTrue\u001b[39;49;00m\u001b[43m,\u001b[49m\n\u001b[0;32m    354\u001b[0m \u001b[43m    \u001b[49m\u001b[43maccumulate_grad\u001b[49m\u001b[38;5;241;43m=\u001b[39;49m\u001b[38;5;28;43;01mTrue\u001b[39;49;00m\u001b[43m,\u001b[49m\n\u001b[0;32m    355\u001b[0m \u001b[43m\u001b[49m\u001b[43m)\u001b[49m\n",
      "File \u001b[1;32md:\\skola\\universitet\\2024_2025\\p3\\deeplearning\\torch_fuck\\lib\\site-packages\\torch\\autograd\\graph.py:823\u001b[0m, in \u001b[0;36m_engine_run_backward\u001b[1;34m(t_outputs, *args, **kwargs)\u001b[0m\n\u001b[0;32m    821\u001b[0m     unregister_hooks \u001b[38;5;241m=\u001b[39m _register_logging_hooks_on_whole_graph(t_outputs)\n\u001b[0;32m    822\u001b[0m \u001b[38;5;28;01mtry\u001b[39;00m:\n\u001b[1;32m--> 823\u001b[0m     \u001b[38;5;28;01mreturn\u001b[39;00m Variable\u001b[38;5;241m.\u001b[39m_execution_engine\u001b[38;5;241m.\u001b[39mrun_backward(  \u001b[38;5;66;03m# Calls into the C++ engine to run the backward pass\u001b[39;00m\n\u001b[0;32m    824\u001b[0m         t_outputs, \u001b[38;5;241m*\u001b[39margs, \u001b[38;5;241m*\u001b[39m\u001b[38;5;241m*\u001b[39mkwargs\n\u001b[0;32m    825\u001b[0m     )  \u001b[38;5;66;03m# Calls into the C++ engine to run the backward pass\u001b[39;00m\n\u001b[0;32m    826\u001b[0m \u001b[38;5;28;01mfinally\u001b[39;00m:\n\u001b[0;32m    827\u001b[0m     \u001b[38;5;28;01mif\u001b[39;00m attach_logging_hooks:\n",
      "\u001b[1;31mKeyboardInterrupt\u001b[0m: "
     ]
    }
   ],
   "source": [
    "model = SwapedConvNetwork(\"relu\")\n",
    "\n",
    "x_train, x_test, trc2, tra2, tec2, tac2, time, avgspeed = train(model, train_dataset_cnn, test_dataset_cnn, batch_size=64, optmzr=\"sgd\")"
   ]
  },
  {
   "cell_type": "code",
   "execution_count": null,
   "metadata": {},
   "outputs": [],
   "source": [
    "# Compare with ex2:\n",
    "# 3a\n",
    "# Longer or faster training time?\n",
    "# Final accuracy?\n",
    "# Learning curve plot: both models next to each other!\n",
    "\n",
    "# 3b: ReLU -> tanh\n",
    "# longer or faster training time?\n",
    "# Final accuracy?\n",
    "# learning curve plot !\n",
    "\n",
    "# 3c conclusions?"
   ]
  },
  {
   "cell_type": "markdown",
   "metadata": {},
   "source": [
    "### Exercise 4: swapping SGD for ADAM\n",
    "\n",
    "Are good results obtained faster? Compare with SGD; provide learning curve plot."
   ]
  },
  {
   "cell_type": "code",
   "execution_count": null,
   "metadata": {},
   "outputs": [
    {
     "name": "stdout",
     "output_type": "stream",
     "text": [
      "Entering epoch 1 out of 40.\n",
      "Current testing loss:          0.6418\n",
      "Current test accuracy:           0.80\n",
      "Ellapsed time:                   9.68 seconds.\n",
      "Estimated time remaining:      396.79 seconds.\n",
      "\n",
      "Entering epoch 2 out of 40.\n"
     ]
    },
    {
     "ename": "KeyboardInterrupt",
     "evalue": "",
     "output_type": "error",
     "traceback": [
      "\u001b[1;31m---------------------------------------------------------------------------\u001b[0m",
      "\u001b[1;31mKeyboardInterrupt\u001b[0m                         Traceback (most recent call last)",
      "Cell \u001b[1;32mIn[13], line 6\u001b[0m\n\u001b[0;32m      2\u001b[0m model_ex4_adam \u001b[38;5;241m=\u001b[39m SwapedConvNetwork(\u001b[38;5;124m\"\u001b[39m\u001b[38;5;124mrelu\u001b[39m\u001b[38;5;124m\"\u001b[39m)\n\u001b[0;32m      4\u001b[0m num_epochs \u001b[38;5;241m=\u001b[39m \u001b[38;5;241m30\u001b[39m\n\u001b[1;32m----> 6\u001b[0m sgd_stats \u001b[38;5;241m=\u001b[39m \u001b[43mtrain\u001b[49m\u001b[43m(\u001b[49m\u001b[43mmodel_ex4_sgd\u001b[49m\u001b[43m,\u001b[49m\u001b[43m \u001b[49m\u001b[43mtrain_dataset_cnn\u001b[49m\u001b[43m,\u001b[49m\u001b[43m \u001b[49m\u001b[43mtest_dataset_cnn\u001b[49m\u001b[43m,\u001b[49m\u001b[43m \u001b[49m\u001b[43moptmzr\u001b[49m\u001b[38;5;241;43m=\u001b[39;49m\u001b[38;5;124;43m\"\u001b[39;49m\u001b[38;5;124;43msgd\u001b[39;49m\u001b[38;5;124;43m\"\u001b[39;49m\u001b[43m)\u001b[49m\n\u001b[0;32m      7\u001b[0m adam_stats \u001b[38;5;241m=\u001b[39m train(model_ex4_adam, train_dataset_cnn, test_dataset_cnn, optmzr\u001b[38;5;241m=\u001b[39m\u001b[38;5;124m\"\u001b[39m\u001b[38;5;124madam\u001b[39m\u001b[38;5;124m\"\u001b[39m)\n",
      "Cell \u001b[1;32mIn[9], line 59\u001b[0m, in \u001b[0;36mtrain\u001b[1;34m(model, traindata, testdata, num_epochs, batch_size, optmzr)\u001b[0m\n\u001b[0;32m     51\u001b[0m \u001b[38;5;28;01mfor\u001b[39;00m b \u001b[38;5;129;01min\u001b[39;00m train_loader:\n\u001b[0;32m     52\u001b[0m     \u001b[38;5;66;03m# b[0][0][0] är en bild. Ser bra ut: kan plottas\u001b[39;00m\n\u001b[0;32m     53\u001b[0m \n\u001b[1;32m   (...)\u001b[0m\n\u001b[0;32m     56\u001b[0m \n\u001b[0;32m     57\u001b[0m     \u001b[38;5;66;03m# Training\u001b[39;00m\n\u001b[0;32m     58\u001b[0m     optimizer\u001b[38;5;241m.\u001b[39mzero_grad()\n\u001b[1;32m---> 59\u001b[0m     loss, train_acc \u001b[38;5;241m=\u001b[39m \u001b[43mcompute_loss\u001b[49m\u001b[43m(\u001b[49m\u001b[43mmodel\u001b[49m\u001b[43m,\u001b[49m\u001b[43m \u001b[49m\u001b[43mb\u001b[49m\u001b[43m)\u001b[49m\n\u001b[0;32m     60\u001b[0m     loss\u001b[38;5;241m.\u001b[39mbackward()\n\u001b[0;32m     61\u001b[0m     optimizer\u001b[38;5;241m.\u001b[39mstep()\n",
      "Cell \u001b[1;32mIn[5], line 6\u001b[0m, in \u001b[0;36mcompute_loss\u001b[1;34m(model, batch)\u001b[0m\n\u001b[0;32m      1\u001b[0m \u001b[38;5;28;01mdef\u001b[39;00m\u001b[38;5;250m \u001b[39m\u001b[38;5;21mcompute_loss\u001b[39m(model, batch):\n\u001b[0;32m      2\u001b[0m     \u001b[38;5;66;03m# forward pass and loss function\u001b[39;00m\n\u001b[0;32m      4\u001b[0m     inp_data, labels \u001b[38;5;241m=\u001b[39m batch \u001b[38;5;66;03m# Read current batch\u001b[39;00m\n\u001b[1;32m----> 6\u001b[0m     output \u001b[38;5;241m=\u001b[39m \u001b[43mmodel\u001b[49m\u001b[43m(\u001b[49m\u001b[43minp_data\u001b[49m\u001b[43m)\u001b[49m \u001b[38;5;66;03m# Get output from model\u001b[39;00m\n\u001b[0;32m      7\u001b[0m     loss \u001b[38;5;241m=\u001b[39m torch\u001b[38;5;241m.\u001b[39mnn\u001b[38;5;241m.\u001b[39mfunctional\u001b[38;5;241m.\u001b[39mcross_entropy(output, labels)\n\u001b[0;32m      8\u001b[0m     acc \u001b[38;5;241m=\u001b[39m (output\u001b[38;5;241m.\u001b[39margmax(dim\u001b[38;5;241m=\u001b[39m\u001b[38;5;241m1\u001b[39m) \u001b[38;5;241m==\u001b[39m labels\u001b[38;5;241m.\u001b[39margmax(dim\u001b[38;5;241m=\u001b[39m\u001b[38;5;241m1\u001b[39m))\u001b[38;5;241m.\u001b[39mfloat()\u001b[38;5;241m.\u001b[39mmean() \u001b[38;5;66;03m# Check accuracy\u001b[39;00m\n",
      "File \u001b[1;32md:\\skola\\universitet\\2024_2025\\p3\\deeplearning\\torch_fuck\\lib\\site-packages\\torch\\nn\\modules\\module.py:1739\u001b[0m, in \u001b[0;36mModule._wrapped_call_impl\u001b[1;34m(self, *args, **kwargs)\u001b[0m\n\u001b[0;32m   1737\u001b[0m     \u001b[38;5;28;01mreturn\u001b[39;00m \u001b[38;5;28mself\u001b[39m\u001b[38;5;241m.\u001b[39m_compiled_call_impl(\u001b[38;5;241m*\u001b[39margs, \u001b[38;5;241m*\u001b[39m\u001b[38;5;241m*\u001b[39mkwargs)  \u001b[38;5;66;03m# type: ignore[misc]\u001b[39;00m\n\u001b[0;32m   1738\u001b[0m \u001b[38;5;28;01melse\u001b[39;00m:\n\u001b[1;32m-> 1739\u001b[0m     \u001b[38;5;28;01mreturn\u001b[39;00m \u001b[38;5;28mself\u001b[39m\u001b[38;5;241m.\u001b[39m_call_impl(\u001b[38;5;241m*\u001b[39margs, \u001b[38;5;241m*\u001b[39m\u001b[38;5;241m*\u001b[39mkwargs)\n",
      "File \u001b[1;32md:\\skola\\universitet\\2024_2025\\p3\\deeplearning\\torch_fuck\\lib\\site-packages\\torch\\nn\\modules\\module.py:1750\u001b[0m, in \u001b[0;36mModule._call_impl\u001b[1;34m(self, *args, **kwargs)\u001b[0m\n\u001b[0;32m   1745\u001b[0m \u001b[38;5;66;03m# If we don't have any hooks, we want to skip the rest of the logic in\u001b[39;00m\n\u001b[0;32m   1746\u001b[0m \u001b[38;5;66;03m# this function, and just call forward.\u001b[39;00m\n\u001b[0;32m   1747\u001b[0m \u001b[38;5;28;01mif\u001b[39;00m \u001b[38;5;129;01mnot\u001b[39;00m (\u001b[38;5;28mself\u001b[39m\u001b[38;5;241m.\u001b[39m_backward_hooks \u001b[38;5;129;01mor\u001b[39;00m \u001b[38;5;28mself\u001b[39m\u001b[38;5;241m.\u001b[39m_backward_pre_hooks \u001b[38;5;129;01mor\u001b[39;00m \u001b[38;5;28mself\u001b[39m\u001b[38;5;241m.\u001b[39m_forward_hooks \u001b[38;5;129;01mor\u001b[39;00m \u001b[38;5;28mself\u001b[39m\u001b[38;5;241m.\u001b[39m_forward_pre_hooks\n\u001b[0;32m   1748\u001b[0m         \u001b[38;5;129;01mor\u001b[39;00m _global_backward_pre_hooks \u001b[38;5;129;01mor\u001b[39;00m _global_backward_hooks\n\u001b[0;32m   1749\u001b[0m         \u001b[38;5;129;01mor\u001b[39;00m _global_forward_hooks \u001b[38;5;129;01mor\u001b[39;00m _global_forward_pre_hooks):\n\u001b[1;32m-> 1750\u001b[0m     \u001b[38;5;28;01mreturn\u001b[39;00m forward_call(\u001b[38;5;241m*\u001b[39margs, \u001b[38;5;241m*\u001b[39m\u001b[38;5;241m*\u001b[39mkwargs)\n\u001b[0;32m   1752\u001b[0m result \u001b[38;5;241m=\u001b[39m \u001b[38;5;28;01mNone\u001b[39;00m\n\u001b[0;32m   1753\u001b[0m called_always_called_hooks \u001b[38;5;241m=\u001b[39m \u001b[38;5;28mset\u001b[39m()\n",
      "Cell \u001b[1;32mIn[11], line 41\u001b[0m, in \u001b[0;36mSwapedConvNetwork.forward\u001b[1;34m(self, x)\u001b[0m\n\u001b[0;32m     38\u001b[0m \u001b[38;5;28;01mdef\u001b[39;00m\u001b[38;5;250m \u001b[39m\u001b[38;5;21mforward\u001b[39m(\u001b[38;5;28mself\u001b[39m, x):\n\u001b[0;32m     40\u001b[0m     \u001b[38;5;28;01mfor\u001b[39;00m l \u001b[38;5;129;01min\u001b[39;00m \u001b[38;5;28mself\u001b[39m\u001b[38;5;241m.\u001b[39mcomponents:\n\u001b[1;32m---> 41\u001b[0m         x \u001b[38;5;241m=\u001b[39m \u001b[43ml\u001b[49m\u001b[43m(\u001b[49m\u001b[43mx\u001b[49m\u001b[43m)\u001b[49m\n\u001b[0;32m     43\u001b[0m     \u001b[38;5;28;01mreturn\u001b[39;00m x\n",
      "File \u001b[1;32md:\\skola\\universitet\\2024_2025\\p3\\deeplearning\\torch_fuck\\lib\\site-packages\\torch\\nn\\modules\\module.py:1739\u001b[0m, in \u001b[0;36mModule._wrapped_call_impl\u001b[1;34m(self, *args, **kwargs)\u001b[0m\n\u001b[0;32m   1737\u001b[0m     \u001b[38;5;28;01mreturn\u001b[39;00m \u001b[38;5;28mself\u001b[39m\u001b[38;5;241m.\u001b[39m_compiled_call_impl(\u001b[38;5;241m*\u001b[39margs, \u001b[38;5;241m*\u001b[39m\u001b[38;5;241m*\u001b[39mkwargs)  \u001b[38;5;66;03m# type: ignore[misc]\u001b[39;00m\n\u001b[0;32m   1738\u001b[0m \u001b[38;5;28;01melse\u001b[39;00m:\n\u001b[1;32m-> 1739\u001b[0m     \u001b[38;5;28;01mreturn\u001b[39;00m \u001b[38;5;28mself\u001b[39m\u001b[38;5;241m.\u001b[39m_call_impl(\u001b[38;5;241m*\u001b[39margs, \u001b[38;5;241m*\u001b[39m\u001b[38;5;241m*\u001b[39mkwargs)\n",
      "File \u001b[1;32md:\\skola\\universitet\\2024_2025\\p3\\deeplearning\\torch_fuck\\lib\\site-packages\\torch\\nn\\modules\\module.py:1750\u001b[0m, in \u001b[0;36mModule._call_impl\u001b[1;34m(self, *args, **kwargs)\u001b[0m\n\u001b[0;32m   1745\u001b[0m \u001b[38;5;66;03m# If we don't have any hooks, we want to skip the rest of the logic in\u001b[39;00m\n\u001b[0;32m   1746\u001b[0m \u001b[38;5;66;03m# this function, and just call forward.\u001b[39;00m\n\u001b[0;32m   1747\u001b[0m \u001b[38;5;28;01mif\u001b[39;00m \u001b[38;5;129;01mnot\u001b[39;00m (\u001b[38;5;28mself\u001b[39m\u001b[38;5;241m.\u001b[39m_backward_hooks \u001b[38;5;129;01mor\u001b[39;00m \u001b[38;5;28mself\u001b[39m\u001b[38;5;241m.\u001b[39m_backward_pre_hooks \u001b[38;5;129;01mor\u001b[39;00m \u001b[38;5;28mself\u001b[39m\u001b[38;5;241m.\u001b[39m_forward_hooks \u001b[38;5;129;01mor\u001b[39;00m \u001b[38;5;28mself\u001b[39m\u001b[38;5;241m.\u001b[39m_forward_pre_hooks\n\u001b[0;32m   1748\u001b[0m         \u001b[38;5;129;01mor\u001b[39;00m _global_backward_pre_hooks \u001b[38;5;129;01mor\u001b[39;00m _global_backward_hooks\n\u001b[0;32m   1749\u001b[0m         \u001b[38;5;129;01mor\u001b[39;00m _global_forward_hooks \u001b[38;5;129;01mor\u001b[39;00m _global_forward_pre_hooks):\n\u001b[1;32m-> 1750\u001b[0m     \u001b[38;5;28;01mreturn\u001b[39;00m forward_call(\u001b[38;5;241m*\u001b[39margs, \u001b[38;5;241m*\u001b[39m\u001b[38;5;241m*\u001b[39mkwargs)\n\u001b[0;32m   1752\u001b[0m result \u001b[38;5;241m=\u001b[39m \u001b[38;5;28;01mNone\u001b[39;00m\n\u001b[0;32m   1753\u001b[0m called_always_called_hooks \u001b[38;5;241m=\u001b[39m \u001b[38;5;28mset\u001b[39m()\n",
      "File \u001b[1;32md:\\skola\\universitet\\2024_2025\\p3\\deeplearning\\torch_fuck\\lib\\site-packages\\torch\\nn\\modules\\pooling.py:213\u001b[0m, in \u001b[0;36mMaxPool2d.forward\u001b[1;34m(self, input)\u001b[0m\n\u001b[0;32m    212\u001b[0m \u001b[38;5;28;01mdef\u001b[39;00m\u001b[38;5;250m \u001b[39m\u001b[38;5;21mforward\u001b[39m(\u001b[38;5;28mself\u001b[39m, \u001b[38;5;28minput\u001b[39m: Tensor):\n\u001b[1;32m--> 213\u001b[0m     \u001b[38;5;28;01mreturn\u001b[39;00m \u001b[43mF\u001b[49m\u001b[38;5;241;43m.\u001b[39;49m\u001b[43mmax_pool2d\u001b[49m\u001b[43m(\u001b[49m\n\u001b[0;32m    214\u001b[0m \u001b[43m        \u001b[49m\u001b[38;5;28;43minput\u001b[39;49m\u001b[43m,\u001b[49m\n\u001b[0;32m    215\u001b[0m \u001b[43m        \u001b[49m\u001b[38;5;28;43mself\u001b[39;49m\u001b[38;5;241;43m.\u001b[39;49m\u001b[43mkernel_size\u001b[49m\u001b[43m,\u001b[49m\n\u001b[0;32m    216\u001b[0m \u001b[43m        \u001b[49m\u001b[38;5;28;43mself\u001b[39;49m\u001b[38;5;241;43m.\u001b[39;49m\u001b[43mstride\u001b[49m\u001b[43m,\u001b[49m\n\u001b[0;32m    217\u001b[0m \u001b[43m        \u001b[49m\u001b[38;5;28;43mself\u001b[39;49m\u001b[38;5;241;43m.\u001b[39;49m\u001b[43mpadding\u001b[49m\u001b[43m,\u001b[49m\n\u001b[0;32m    218\u001b[0m \u001b[43m        \u001b[49m\u001b[38;5;28;43mself\u001b[39;49m\u001b[38;5;241;43m.\u001b[39;49m\u001b[43mdilation\u001b[49m\u001b[43m,\u001b[49m\n\u001b[0;32m    219\u001b[0m \u001b[43m        \u001b[49m\u001b[43mceil_mode\u001b[49m\u001b[38;5;241;43m=\u001b[39;49m\u001b[38;5;28;43mself\u001b[39;49m\u001b[38;5;241;43m.\u001b[39;49m\u001b[43mceil_mode\u001b[49m\u001b[43m,\u001b[49m\n\u001b[0;32m    220\u001b[0m \u001b[43m        \u001b[49m\u001b[43mreturn_indices\u001b[49m\u001b[38;5;241;43m=\u001b[39;49m\u001b[38;5;28;43mself\u001b[39;49m\u001b[38;5;241;43m.\u001b[39;49m\u001b[43mreturn_indices\u001b[49m\u001b[43m,\u001b[49m\n\u001b[0;32m    221\u001b[0m \u001b[43m    \u001b[49m\u001b[43m)\u001b[49m\n",
      "File \u001b[1;32md:\\skola\\universitet\\2024_2025\\p3\\deeplearning\\torch_fuck\\lib\\site-packages\\torch\\_jit_internal.py:624\u001b[0m, in \u001b[0;36mboolean_dispatch.<locals>.fn\u001b[1;34m(*args, **kwargs)\u001b[0m\n\u001b[0;32m    622\u001b[0m     \u001b[38;5;28;01mreturn\u001b[39;00m if_true(\u001b[38;5;241m*\u001b[39margs, \u001b[38;5;241m*\u001b[39m\u001b[38;5;241m*\u001b[39mkwargs)\n\u001b[0;32m    623\u001b[0m \u001b[38;5;28;01melse\u001b[39;00m:\n\u001b[1;32m--> 624\u001b[0m     \u001b[38;5;28;01mreturn\u001b[39;00m if_false(\u001b[38;5;241m*\u001b[39margs, \u001b[38;5;241m*\u001b[39m\u001b[38;5;241m*\u001b[39mkwargs)\n",
      "File \u001b[1;32md:\\skola\\universitet\\2024_2025\\p3\\deeplearning\\torch_fuck\\lib\\site-packages\\torch\\nn\\functional.py:830\u001b[0m, in \u001b[0;36m_max_pool2d\u001b[1;34m(input, kernel_size, stride, padding, dilation, ceil_mode, return_indices)\u001b[0m\n\u001b[0;32m    828\u001b[0m \u001b[38;5;28;01mif\u001b[39;00m stride \u001b[38;5;129;01mis\u001b[39;00m \u001b[38;5;28;01mNone\u001b[39;00m:\n\u001b[0;32m    829\u001b[0m     stride \u001b[38;5;241m=\u001b[39m torch\u001b[38;5;241m.\u001b[39mjit\u001b[38;5;241m.\u001b[39mannotate(List[\u001b[38;5;28mint\u001b[39m], [])\n\u001b[1;32m--> 830\u001b[0m \u001b[38;5;28;01mreturn\u001b[39;00m \u001b[43mtorch\u001b[49m\u001b[38;5;241;43m.\u001b[39;49m\u001b[43mmax_pool2d\u001b[49m\u001b[43m(\u001b[49m\u001b[38;5;28;43minput\u001b[39;49m\u001b[43m,\u001b[49m\u001b[43m \u001b[49m\u001b[43mkernel_size\u001b[49m\u001b[43m,\u001b[49m\u001b[43m \u001b[49m\u001b[43mstride\u001b[49m\u001b[43m,\u001b[49m\u001b[43m \u001b[49m\u001b[43mpadding\u001b[49m\u001b[43m,\u001b[49m\u001b[43m \u001b[49m\u001b[43mdilation\u001b[49m\u001b[43m,\u001b[49m\u001b[43m \u001b[49m\u001b[43mceil_mode\u001b[49m\u001b[43m)\u001b[49m\n",
      "\u001b[1;31mKeyboardInterrupt\u001b[0m: "
     ]
    }
   ],
   "source": [
    "model_ex4_sgd = SwapedConvNetwork(\"relu\")\n",
    "model_ex4_adam = SwapedConvNetwork(\"relu\")\n",
    "\n",
    "num_epochs = 30\n",
    "\n",
    "sgd_stats = train(model_ex4_sgd, train_dataset_cnn, test_dataset_cnn, optmzr=\"sgd\")\n",
    "adam_stats = train(model_ex4_adam, train_dataset_cnn, test_dataset_cnn, optmzr=\"adam\")"
   ]
  },
  {
   "cell_type": "code",
   "execution_count": null,
   "metadata": {},
   "outputs": [],
   "source": [
    "# ex4:\n",
    "# learning curve plot of adam vs sgd here"
   ]
  },
  {
   "cell_type": "markdown",
   "metadata": {},
   "source": [
    "### Exercise 5: residual connection\n",
    "\n",
    "Does this improve performance?\n",
    "\n",
    "Use the same structure as before but replace each conv+act pair with a block of two similar parts with a residual connection over each such block.\n",
    "\n",
    "So x -> conv1 -> relu = f(x) ==> x -> conv1 -> relu -> conv1 -> relu = g(x) + x "
   ]
  },
  {
   "cell_type": "code",
   "execution_count": null,
   "metadata": {},
   "outputs": [],
   "source": [
    "class ResidualBlock(torch.nn.Module):\n",
    "    def __init__(self, channels, activator):\n",
    "        super().__init__()\n",
    "        if activator.lower() == \"relu\":\n",
    "            self.activator = torch.nn.ReLU()\n",
    "        if activator.lower() == \"tanh\":\n",
    "            self.activator = torch.nn.Tanh()\n",
    "\n",
    "        self.conv = torch.nn.Conv2d(channels, channels, kernel_size=3, stride=1, padding=1)\n",
    "\n",
    "    def forward(self, x):\n",
    "        identity = x  # Save input for residual connection\n",
    "        out = self.conv(x)\n",
    "        out = self.activator(out)\n",
    "        out = self.conv(out)\n",
    "        out = self.activator(out)\n",
    "        torch.add(out, identity)\n",
    "        #out += identity  # Add residual connection. GOOFY AHH CHATGPT DELUSION ! ! !   \n",
    "        return out\n",
    "\n",
    "class ResConvNetwork(torch.nn.Module):\n",
    "    def __init__(self, activator: str):\n",
    "        super().__init__()\n",
    "\n",
    "        # Reused layers\n",
    "        if activator.lower() == \"relu\":\n",
    "            self.activator = torch.nn.ReLU()\n",
    "        if activator.lower() == \"tanh\":\n",
    "            self.activator = torch.nn.Tanh()\n",
    "        \n",
    "        self.pool = torch.nn.MaxPool2d(2, stride=2)\n",
    "\n",
    "        self.initial_conv = torch.nn.Conv2d(1, 8, kernel_size=3, stride=1, padding=1)\n",
    "        self.resblock1 = ResidualBlock(8, \"relu\") # blir det inte lite konstigt med dimensionerna här?\n",
    "        \n",
    "        self.conv2 = torch.nn.Conv2d(8, 16, kernel_size=3, stride=1, padding=1)\n",
    "        self.resblock2 = ResidualBlock(16, \"relu\")\n",
    "\n",
    "        self.conv3 = torch.nn.Conv2d(16, 32, kernel_size=3, stride=1, padding=1)\n",
    "        self.resblock3 = ResidualBlock(32, \"relu\")\n",
    "\n",
    "        self.flatten = torch.nn.Flatten()\n",
    "        self.fullyconnected = torch.nn.Linear(32*7*7, 10)\n",
    "\n",
    "        self.components = torch.nn.ModuleList([self.initial_conv,\n",
    "                                               self.resblock1,\n",
    "                                               self.conv2,\n",
    "                                               self.pool,\n",
    "                                               self.resblock2,\n",
    "                                               self.conv3,\n",
    "                                               self.pool,\n",
    "                                               self.resblock3,\n",
    "                                               self.flatten,\n",
    "                                               self.fullyconnected])\n",
    "    \n",
    "    def forward(self, x):\n",
    "        for l in self.components:\n",
    "            x = l(x)\n",
    "        \n",
    "        return x"
   ]
  },
  {
   "cell_type": "code",
   "execution_count": null,
   "metadata": {},
   "outputs": [
    {
     "name": "stdout",
     "output_type": "stream",
     "text": [
      "Initializing training\n",
      "Epoch 1 / 40:\n",
      "Current testing loss:          0.0559\n",
      "Current test accuracy:           0.98\n",
      "Ellapsed time:                 134.22 seconds.\n",
      "Estimated time remaining:     5503.15 seconds.\n",
      "\n",
      "Epoch 2 / 40:\n",
      "Current testing loss:          0.0349\n",
      "Current test accuracy:           0.99\n",
      "Ellapsed time:                 268.08 seconds.\n",
      "Estimated time remaining:     5361.51 seconds.\n",
      "\n",
      "Epoch 3 / 40:\n",
      "Current testing loss:          0.0378\n",
      "Current test accuracy:           0.99\n",
      "Ellapsed time:                 402.25 seconds.\n",
      "Estimated time remaining:     5229.25 seconds.\n",
      "\n",
      "Epoch 4 / 40:\n",
      "Current testing loss:          0.0323\n",
      "Current test accuracy:           0.99\n",
      "Ellapsed time:                 534.88 seconds.\n",
      "Estimated time remaining:     5081.39 seconds.\n",
      "\n"
     ]
    }
   ],
   "source": [
    "resnet_model = ResConvNetwork(\"relu\")\n",
    "\n",
    "x_train, x_test, trc2, tra2, tec2, tac2, time, avgspeed = train(resnet_model, train_dataset_cnn, test_dataset_cnn, num_epochs=5, batch_size=64, optmzr=\"adam\")"
   ]
  },
  {
   "cell_type": "markdown",
   "metadata": {},
   "source": [
    "### Exercise 6: CNN with three variations"
   ]
  },
  {
   "cell_type": "markdown",
   "metadata": {},
   "source": [
    "Todo\n",
    "\n",
    "1. Swapa SGD mot ADAM och se till att det funkar \n",
    "2. Implementera residual connection och kolla vad som sker\n",
    "3. CNN with three variations:\n",
    "    1. Regularization\n",
    "    2. Hur olika djup påverkar träningshastigheten?\n",
    "    3. Hur olika learning rates påverkar träningshastigheten?\n",
    "\n",
    "Misc: på något vis få ut x-axel från train() så att man kan plotta flera samtidigt"
   ]
  },
  {
   "cell_type": "code",
   "execution_count": null,
   "metadata": {},
   "outputs": [
    {
     "name": "stdout",
     "output_type": "stream",
     "text": [
      "Initializing training\n",
      "Epoch 1 / 3:\n",
      "Current testing loss:          0.0496\n",
      "Current test accuracy:           0.98\n",
      "Ellapsed time:                  14.57 seconds.\n",
      "Estimated time remaining:       58.28 seconds.\n",
      "\n",
      "Epoch 2 / 3:\n",
      "Current testing loss:          0.0413\n",
      "Current test accuracy:           0.99\n",
      "Ellapsed time:                  29.19 seconds.\n",
      "Estimated time remaining:       43.78 seconds.\n",
      "\n",
      "Epoch 3 / 3:\n",
      "Current testing loss:          0.0332\n",
      "Current test accuracy:           0.99\n",
      "Ellapsed time:                  43.44 seconds.\n",
      "Estimated time remaining:       28.96 seconds.\n",
      "\n",
      "Final results:\n",
      "Total time elapsed: 43.44 s\n",
      "Average speed: 14.48 s / epoch\n",
      "Initializing training\n"
     ]
    }
   ],
   "source": [
    "standard_adam_cnn_relu = ConvNetwork()  # Base network\n",
    "\n",
    "standard_adam_cnn_tanh = ConvNetwork() # Compare Adam with ReLU vs Tanh\n",
    "regularized_adam_cnn = ConvNetwork() # Compare nonregularized vs regularized\n",
    "higherlr_adam_cnn = ConvNetwork() # Compare with a significantly higher learning rate\n",
    "\n",
    "xtr = train_dataset_cnn\n",
    "xte = test_dataset_cnn\n",
    "\n",
    "net1 = train(standard_adam_cnn_relu, xtr, xte, num_epochs=3, batch_size=64, optmzr=\"adam\")\n",
    "net2 = train(standard_adam_cnn_tanh, xtr, xte, num_epochs=3, batch_size=64, optmzr=\"adam\")\n",
    "net3 = train(regularized_adam_cnn, xtr, xte, num_epochs=3, batch_size=64, optmzr=\"adam\", reglz=1)\n",
    "net4 = train(higherlr_adam_cnn, xtr, xte, num_epochs=3, batch_size=64, alpha_lr=0.02)\n",
    "\n",
    "names = [\"CNN ReLU\", \"CNN Tanh\", \"CNN ReLU with regularization\", \"CNN ReLU with higher LR\"]\n",
    "\n",
    "plot_learning_curve([net1, net2, net3, net4], names)"
   ]
  },
  {
   "cell_type": "code",
   "execution_count": 129,
   "metadata": {},
   "outputs": [
    {
     "name": "stdout",
     "output_type": "stream",
     "text": [
      "tensor([   0,    1,    2,  ..., 2811, 2812, 2813])\n"
     ]
    },
    {
     "ename": "NameError",
     "evalue": "name 'names' is not defined",
     "output_type": "error",
     "traceback": [
      "\u001b[1;31m---------------------------------------------------------------------------\u001b[0m",
      "\u001b[1;31mNameError\u001b[0m                                 Traceback (most recent call last)",
      "Cell \u001b[1;32mIn[129], line 5\u001b[0m\n\u001b[0;32m      1\u001b[0m \u001b[38;5;28mprint\u001b[39m(net1[\u001b[38;5;241m0\u001b[39m])\n\u001b[0;32m      3\u001b[0m plt\u001b[38;5;241m.\u001b[39mplot(net1[\u001b[38;5;241m0\u001b[39m], net1[\u001b[38;5;241m3\u001b[39m], linewidth\u001b[38;5;241m=\u001b[39m\u001b[38;5;241m0.3\u001b[39m)\n\u001b[1;32m----> 5\u001b[0m plot_learning_curve([net1, net2, net3, net4], \u001b[43mnames\u001b[49m)\n",
      "\u001b[1;31mNameError\u001b[0m: name 'names' is not defined"
     ]
    },
    {
     "data": {
      "image/png": "[encoded data removed]",
      "text/plain": [
       "<Figure size 640x480 with 1 Axes>"
      ]
     },
     "metadata": {},
     "output_type": "display_data"
    }
   ],
   "source": [
    "print(net1[0])\n",
    "\n",
    "plt.plot(net1[0], net1[3], linewidth=0.3)\n",
    "\n",
    "plot_learning_curve([net1, net2, net3, net4], names)"
   ]
  }
 ],
 "metadata": {
  "kernelspec": {
   "display_name": "torch_fuck",
   "language": "python",
   "name": "python3"
  },
  "language_info": {
   "codemirror_mode": {
    "name": "ipython",
    "version": 3
   },
   "file_extension": ".py",
   "mimetype": "text/x-python",
   "name": "python",
   "nbconvert_exporter": "python",
   "pygments_lexer": "ipython3",
   "version": "3.9.13"
  }
 },
 "nbformat": 4,
 "nbformat_minor": 2
}
