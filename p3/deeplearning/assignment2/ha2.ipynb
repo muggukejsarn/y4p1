{
 "cells": [
  {
   "cell_type": "markdown",
   "metadata": {},
   "source": [
    "## Assignment 2 Deep Learning - CNNs\n",
    "\n",
    "_Magnus Caesar_"
   ]
  },
  {
   "cell_type": "code",
   "execution_count": 57,
   "metadata": {},
   "outputs": [],
   "source": [
    "import numpy as np\n",
    "import torch\n",
    "import torch.utils.data as data\n",
    "from load_mnist import *\n",
    "import matplotlib.pyplot as plt \n",
    "np.random.seed(42)\n"
   ]
  },
  {
   "cell_type": "markdown",
   "metadata": {},
   "source": [
    "### Exercise 1. Multi-layer fully connected neural network\n",
    "Implement exactly the same network as for assignment 1.\n",
    "\n",
    "1. Compare the performance\n",
    "2. Compare speed\n",
    "3. Learning curve plot"
   ]
  },
  {
   "cell_type": "markdown",
   "metadata": {},
   "source": [
    "The first network from assignment 1 is a linear model. The input dimension is 784 (28x28 pixels) and the output dimension is 10. The second network is multilayered. The one I implemented had 2 hidden layers á 100 neurons each, which the same necessary input and output dimensions."
   ]
  },
  {
   "cell_type": "code",
   "execution_count": null,
   "metadata": {},
   "outputs": [],
   "source": [
    "# Load the data\n",
    "X_train, Y_train, X_test, Y_test = load_mnist()"
   ]
  },
  {
   "cell_type": "code",
   "execution_count": 159,
   "metadata": {},
   "outputs": [],
   "source": [
    "# Loading the data into pytorch's domain\n",
    "\n",
    "X_train_tensor = torch.tensor(X_train, dtype=torch.float32) # has to be float32\n",
    "Y_train_tensor = torch.tensor(Y_train, dtype=torch.float32)  # only works with long in cross entropy loss ?? so dumb\n",
    "\n",
    "X_test_tensor = torch.tensor(X_test, dtype=torch.float32)\n",
    "Y_test_tensor = torch.tensor(Y_test, dtype=torch.float32)\n",
    "\n",
    "# Create TensorDataset\n",
    "train_dataset = data.TensorDataset(X_train_tensor, Y_train_tensor)\n",
    "test_dataset = data.TensorDataset(X_test_tensor, Y_test_tensor)\n"
   ]
  },
  {
   "cell_type": "markdown",
   "metadata": {},
   "source": [
    "**Base network and forward**\n",
    "\n",
    "Basic class for the network."
   ]
  },
  {
   "cell_type": "code",
   "execution_count": 109,
   "metadata": {},
   "outputs": [],
   "source": [
    "class SeqNetwork(torch.nn.Module):\n",
    "    def __init__(self, num_hidden_layers, input_dim=784, output_dim=10, hidden_dim=100):\n",
    "        super().__init__()\n",
    "        self.layers = torch.nn.ModuleList([]) # Ska ha lista med lager / moduler\n",
    "\n",
    "        # If no hidden layers\n",
    "        if num_hidden_layers == 0: \n",
    "            self.layers.append(torch.nn.Linear(input_dim, output_dim, dtype=torch.float32))\n",
    "\n",
    "        # If hidden layers layers\n",
    "        # TODO\n",
    "        # this might have some logic flaws\n",
    "        else:\n",
    "            # First layer\n",
    "            self.layers.append(torch.nn.Linear(input_dim, hidden_dim))\n",
    "            self.layers.append(torch.nn.ReLU())\n",
    "            \n",
    "            # Add extra layers\n",
    "            for _ in range(num_hidden_layers):\n",
    "                self.layers.append(torch.nn.Linear(hidden_dim, hidden_dim))\n",
    "                self.layers.append(torch.nn.ReLU())\n",
    "            \n",
    "            self.layers.append(torch.nn.Linear(hidden_dim, output_dim))\n",
    "        \n",
    "\n",
    "    def forward(self, x):\n",
    "\n",
    "        for l in self.layers:\n",
    "            x = l(x)\n",
    "\n",
    "        return x\n",
    "        "
   ]
  },
  {
   "cell_type": "markdown",
   "metadata": {},
   "source": [
    "**Computing loss**\n",
    "\n",
    "This is the exact same \"compute_loss\" function used in lab 2."
   ]
  },
  {
   "cell_type": "code",
   "execution_count": 208,
   "metadata": {},
   "outputs": [],
   "source": [
    "def compute_loss(model, batch):\n",
    "    # forward pass and loss function\n",
    "\n",
    "    inp_data, labels = batch # Read current batch\n",
    "\n",
    "    output = model(inp_data) # Get output from model\n",
    "    loss = torch.nn.functional.cross_entropy(output, labels)\n",
    "    acc = (output.argmax(dim=1) == labels.argmax(dim=1)).float().mean() # Check accuracy\n",
    "\n",
    "    return loss, acc"
   ]
  },
  {
   "cell_type": "markdown",
   "metadata": {},
   "source": [
    "**Optimizing**\n",
    "\n",
    "The optimizer is SGD (as opposed to ADAM which comes later). PyTorch supports momentum, but that wasn't used in lab 1 and so won't be used here either."
   ]
  },
  {
   "cell_type": "code",
   "execution_count": 220,
   "metadata": {},
   "outputs": [
    {
     "name": "stdout",
     "output_type": "stream",
     "text": [
      "Entering epoch 1 out of 50.\n",
      "Current testing loss: 1.6039764630566737\n",
      "Current test accuracy: 0.7349721193313599\n",
      "\n",
      "Entering epoch 2 out of 50.\n",
      "Current testing loss: 1.2250427793545329\n",
      "Current test accuracy: 0.7974721193313599\n",
      "\n",
      "Entering epoch 3 out of 50.\n",
      "Current testing loss: 1.017464569040165\n",
      "Current test accuracy: 0.8211584687232971\n",
      "\n",
      "Entering epoch 4 out of 50.\n",
      "Current testing loss: 0.8901389330435711\n",
      "Current test accuracy: 0.8351910710334778\n",
      "\n",
      "Entering epoch 5 out of 50.\n",
      "Current testing loss: 0.8042546703367476\n",
      "Current test accuracy: 0.8438495397567749\n",
      "\n",
      "Entering epoch 6 out of 50.\n",
      "Current testing loss: 0.742360804111335\n",
      "Current test accuracy: 0.8497213125228882\n",
      "\n",
      "Entering epoch 7 out of 50.\n",
      "Current testing loss: 0.6953884675434441\n",
      "Current test accuracy: 0.856289803981781\n",
      "\n",
      "Entering epoch 8 out of 50.\n",
      "Current testing loss: 0.658515371050045\n",
      "Current test accuracy: 0.8608678579330444\n",
      "\n",
      "Entering epoch 9 out of 50.\n",
      "Current testing loss: 0.6286549715289644\n",
      "Current test accuracy: 0.8650477528572083\n",
      "\n",
      "Entering epoch 10 out of 50.\n",
      "Current testing loss: 0.6038100595117375\n",
      "Current test accuracy: 0.8685310482978821\n",
      "\n",
      "Entering epoch 11 out of 50.\n",
      "Current testing loss: 0.5828005868917817\n",
      "Current test accuracy: 0.8711186051368713\n",
      "\n",
      "Entering epoch 12 out of 50.\n",
      "Current testing loss: 0.5648788669306761\n",
      "Current test accuracy: 0.8724124431610107\n",
      "\n",
      "Entering epoch 13 out of 50.\n",
      "Current testing loss: 0.5493031625819814\n",
      "Current test accuracy: 0.8742038011550903\n",
      "\n",
      "Entering epoch 14 out of 50.\n",
      "Current testing loss: 0.5356512812861971\n",
      "Current test accuracy: 0.8762937784194946\n",
      "\n",
      "Entering epoch 15 out of 50.\n",
      "Current testing loss: 0.5234171055304776\n",
      "Current test accuracy: 0.8788813948631287\n",
      "\n",
      "Entering epoch 16 out of 50.\n",
      "Current testing loss: 0.5125905272022934\n",
      "Current test accuracy: 0.8800756335258484\n",
      "\n",
      "Entering epoch 17 out of 50.\n",
      "Current testing loss: 0.5028323944966504\n",
      "Current test accuracy: 0.8809713125228882\n",
      "\n",
      "Entering epoch 18 out of 50.\n",
      "Current testing loss: 0.49395851349564873\n",
      "Current test accuracy: 0.8815684914588928\n",
      "\n",
      "Entering epoch 19 out of 50.\n",
      "Current testing loss: 0.48592248848479264\n",
      "Current test accuracy: 0.8819665312767029\n",
      "\n",
      "Entering epoch 20 out of 50.\n",
      "Current testing loss: 0.4786389104215203\n",
      "Current test accuracy: 0.8829618096351624\n",
      "\n",
      "Entering epoch 21 out of 50.\n",
      "Current testing loss: 0.47177195148008644\n",
      "Current test accuracy: 0.883957028388977\n",
      "\n",
      "Entering epoch 22 out of 50.\n",
      "Current testing loss: 0.46543303300525735\n",
      "Current test accuracy: 0.8851512670516968\n",
      "\n",
      "Entering epoch 23 out of 50.\n",
      "Current testing loss: 0.4596779595609683\n",
      "Current test accuracy: 0.8864450454711914\n",
      "\n",
      "Entering epoch 24 out of 50.\n",
      "Current testing loss: 0.45428511296298096\n",
      "Current test accuracy: 0.8874402642250061\n",
      "\n",
      "Entering epoch 25 out of 50.\n",
      "Current testing loss: 0.4492058694647376\n",
      "Current test accuracy: 0.8880374431610107\n",
      "\n",
      "Entering epoch 26 out of 50.\n",
      "Current testing loss: 0.4445433647009977\n",
      "Current test accuracy: 0.8889331221580505\n",
      "\n",
      "Entering epoch 27 out of 50.\n",
      "Current testing loss: 0.44011532133267184\n",
      "Current test accuracy: 0.8896297812461853\n",
      "\n",
      "Entering epoch 28 out of 50.\n",
      "Current testing loss: 0.4359164965000881\n",
      "Current test accuracy: 0.8902269005775452\n",
      "\n",
      "Entering epoch 29 out of 50.\n",
      "Current testing loss: 0.4319355365149914\n",
      "Current test accuracy: 0.8905254602432251\n",
      "\n",
      "Entering epoch 30 out of 50.\n",
      "Current testing loss: 0.4282497268431126\n",
      "Current test accuracy: 0.8913216590881348\n",
      "\n",
      "Entering epoch 31 out of 50.\n",
      "Current testing loss: 0.4247324570871083\n",
      "Current test accuracy: 0.8922173380851746\n",
      "\n",
      "Entering epoch 32 out of 50.\n",
      "Current testing loss: 0.4213684557397274\n",
      "Current test accuracy: 0.8931130766868591\n",
      "\n",
      "Entering epoch 33 out of 50.\n",
      "Current testing loss: 0.41816342678988816\n",
      "Current test accuracy: 0.8930135369300842\n",
      "\n",
      "Entering epoch 34 out of 50.\n",
      "Current testing loss: 0.41516932581735266\n",
      "Current test accuracy: 0.8931130766868591\n",
      "\n",
      "Entering epoch 35 out of 50.\n",
      "Current testing loss: 0.41228481318066074\n",
      "Current test accuracy: 0.8938097357749939\n",
      "\n",
      "Entering epoch 36 out of 50.\n",
      "Current testing loss: 0.40959217888154803\n",
      "Current test accuracy: 0.8944068551063538\n",
      "\n",
      "Entering epoch 37 out of 50.\n",
      "Current testing loss: 0.4069237956765351\n",
      "Current test accuracy: 0.8948049545288086\n",
      "\n",
      "Entering epoch 38 out of 50.\n",
      "Current testing loss: 0.40441019659873784\n",
      "Current test accuracy: 0.8952030539512634\n",
      "\n",
      "Entering epoch 39 out of 50.\n",
      "Current testing loss: 0.4019579681668692\n",
      "Current test accuracy: 0.8956010937690735\n",
      "\n",
      "Entering epoch 40 out of 50.\n",
      "Current testing loss: 0.3996798413550588\n",
      "Current test accuracy: 0.8956010937690735\n",
      "\n",
      "Entering epoch 41 out of 50.\n",
      "Current testing loss: 0.3974908822613537\n",
      "Current test accuracy: 0.8960987329483032\n",
      "\n",
      "Entering epoch 42 out of 50.\n",
      "Current testing loss: 0.3953438881950773\n",
      "Current test accuracy: 0.8962977528572083\n",
      "\n",
      "Entering epoch 43 out of 50.\n",
      "Current testing loss: 0.3932698491937036\n",
      "Current test accuracy: 0.896795392036438\n",
      "\n",
      "Entering epoch 44 out of 50.\n",
      "Current testing loss: 0.3913650433325274\n",
      "Current test accuracy: 0.896795392036438\n",
      "\n",
      "Entering epoch 45 out of 50.\n",
      "Current testing loss: 0.38941952452111017\n",
      "Current test accuracy: 0.897292971611023\n",
      "\n",
      "Entering epoch 46 out of 50.\n",
      "Current testing loss: 0.38755488712459235\n",
      "Current test accuracy: 0.8979896306991577\n",
      "\n",
      "Entering epoch 47 out of 50.\n",
      "Current testing loss: 0.3857956747079541\n",
      "Current test accuracy: 0.8983877301216125\n",
      "\n",
      "Entering epoch 48 out of 50.\n",
      "Current testing loss: 0.38408355456391335\n",
      "Current test accuracy: 0.8987858295440674\n",
      "\n",
      "Entering epoch 49 out of 50.\n",
      "Current testing loss: 0.382457326670551\n",
      "Current test accuracy: 0.8992834687232971\n",
      "\n",
      "Entering epoch 50 out of 50.\n",
      "Current testing loss: 0.38082781799469784\n",
      "Current test accuracy: 0.8996815085411072\n",
      "\n"
     ]
    }
   ],
   "source": [
    "model = SeqNetwork(0)\n",
    "optimizer = torch.optim.SGD(model.parameters(), lr=0.001, momentum=0)\n",
    "\n",
    "num_epochs = 50\n",
    "batch_size = 64 # size used in lab1\n",
    "\n",
    "train_loader = data.DataLoader(train_dataset, batch_size=batch_size, shuffle=True)\n",
    "test_loader = data.DataLoader(test_dataset, batch_size=64)\n",
    "\n",
    "\n",
    "\n",
    "# Utilize mini-batch gradient descent\n",
    "# After each batch: collect training cost and accuracy\n",
    "# After each epoch (all batches: full data set)\n",
    "# Epochs training accuracy is the average\n",
    "# After each epoch: calculate test cost and accuracy\n",
    "\n",
    "# These four lists are requested in the assignment\n",
    "# Every batch\n",
    "train_accuracies = []\n",
    "train_costs = []\n",
    "\n",
    "# Every epoch\n",
    "test_costs = []\n",
    "test_accuracies = []\n",
    "\n",
    "# Same training structure as from lab 2\n",
    "for epoch in range(num_epochs):\n",
    "    model.train()\n",
    "    print(f\"Entering epoch {epoch+1} out of {num_epochs}.\")\n",
    "\n",
    "    for b in train_loader:\n",
    "        optimizer.zero_grad()\n",
    "        loss, train_acc = compute_loss(model, b)\n",
    "        loss.backward()\n",
    "        optimizer.step()\n",
    "\n",
    "        # Appending training metrics\n",
    "        train_costs.append(loss.item())\n",
    "        train_accuracies.append(train_acc)\n",
    "    \n",
    "    # Appending test metrics\n",
    "    temp_costs = []\n",
    "    temp_acc = []\n",
    "    for b in test_loader:\n",
    "        loss, acc = compute_loss(model, b)\n",
    "        temp_costs.append(loss.item())\n",
    "        temp_acc.append(acc)\n",
    "    \n",
    "    test_costs.append(np.mean(temp_costs))\n",
    "    test_accuracies.append(np.mean(temp_acc))\n",
    "\n",
    "    print(f\"Current testing loss: {test_costs[-1]}\")\n",
    "    print(f\"Current test accuracy: {test_accuracies[-1]}\")\n",
    "    print()\n",
    "\n",
    "\n"
   ]
  },
  {
   "cell_type": "code",
   "execution_count": 221,
   "metadata": {},
   "outputs": [
    {
     "data": {
      "text/plain": [
       "[<matplotlib.lines.Line2D at 0x215581414f0>]"
      ]
     },
     "execution_count": 221,
     "metadata": {},
     "output_type": "execute_result"
    },
    {
     "data": {
      "image/png": "[encoded data removed]",
      "text/plain": [
       "<Figure size 640x480 with 1 Axes>"
      ]
     },
     "metadata": {},
     "output_type": "display_data"
    }
   ],
   "source": [
    "plt.plot(range(len(test_accuracies)), test_accuracies)"
   ]
  },
  {
   "cell_type": "code",
   "execution_count": 222,
   "metadata": {},
   "outputs": [
    {
     "data": {
      "text/plain": [
       "[<matplotlib.lines.Line2D at 0x21558a7c790>]"
      ]
     },
     "execution_count": 222,
     "metadata": {},
     "output_type": "execute_result"
    },
    {
     "data": {
      "image/png": "[encoded data removed]",
      "text/plain": [
       "<Figure size 640x480 with 1 Axes>"
      ]
     },
     "metadata": {},
     "output_type": "display_data"
    }
   ],
   "source": [
    "plt.plot(range(len(train_accuracies))[::10], train_accuracies[::10])"
   ]
  },
  {
   "cell_type": "code",
   "execution_count": null,
   "metadata": {},
   "outputs": [
    {
     "name": "stdout",
     "output_type": "stream",
     "text": [
      "torch.Size([1, 784])\n",
      "torch.float32\n"
     ]
    },
    {
     "data": {
      "text/plain": [
       "tensor([[-0.0018, -0.0698, -0.0844,  0.0108,  0.0614, -0.0714, -0.0255, -0.0352,\n",
       "         -0.0841,  0.0481]], grad_fn=<AddmmBackward0>)"
      ]
     },
     "execution_count": 49,
     "metadata": {},
     "output_type": "execute_result"
    }
   ],
   "source": [
    "model = SeqNetwork(3)\n",
    "X_temp = X_train[0].astype(\"double\")\n",
    "\n",
    "# inputs have to be changed from numpy's standard 64float to 32float\n",
    "X_p = torch.tensor(X_temp.reshape(1, -1), dtype=torch.float32)\n",
    "\n",
    "print(X_p.size())\n",
    "print(X_p.dtype)\n",
    "model(X_p) \n"
   ]
  },
  {
   "cell_type": "markdown",
   "metadata": {},
   "source": [
    "### Exercise 2. Multilayer convolutional neural network\n",
    "CNN using PyTorch with SGD and cross-entropy loss. Reach 98% accuracy.\n",
    "\n",
    "1. How many learnable weights does the network contain? Compare with previous exercise.\n",
    "2. Learning curve plot."
   ]
  }
 ],
 "metadata": {
  "kernelspec": {
   "display_name": "torch_fuck",
   "language": "python",
   "name": "python3"
  },
  "language_info": {
   "codemirror_mode": {
    "name": "ipython",
    "version": 3
   },
   "file_extension": ".py",
   "mimetype": "text/x-python",
   "name": "python",
   "nbconvert_exporter": "python",
   "pygments_lexer": "ipython3",
   "version": "3.9.13"
  }
 },
 "nbformat": 4,
 "nbformat_minor": 2
}
